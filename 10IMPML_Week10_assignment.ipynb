{
 "cells": [
  {
   "cell_type": "markdown",
   "metadata": {},
   "source": [
    "# Week 10, Clustering\n",
    "\n",
    "**_Author: Jessica Cervi_**\n",
    "\n",
    "**Expected time = 2 hours**"
   ]
  },
  {
   "cell_type": "markdown",
   "metadata": {},
   "source": [
    "## Assignment overview\n",
    "\n",
    "\n",
    "In Week 10, you leart about cluster analysis. \n",
    "Clustering can be defined as 'the process of organising objects into groups whose members are similar in some way'.\n",
    "Clustering is crucial because it determines the intrinsic grouping within unlabelled data. Clustering algorithms make some assumptions about data points to constitute their similarity. Thus, each hypothesis will construct different but equally valid clusters.\n",
    "\n",
    "For example, if you built a fruit classifier, it would say 'this is an orange, this is an apple', based on you showing it examples of apples and oranges.\n",
    "Clustering is the result of unsupervised learning, which means that you’ve seen lots of examples but don’t have labels. In this case, the clustering might return with 'fruits with soft skin and lots of dimples', 'fruits with shiny hard skin'  based merely on showing lots of fruit to the system, but not identifying the names of the different types of fruit. \n",
    "\n",
    "\n",
    "\n",
    "This assignment is designed to help you apply the machine learning algorithms you have learnt using packages in Python. Python concepts, instructions and a starter code are embedded within this Jupyter Notebook to guide you as you progress through the assignment. Remember to run the code of each code cell prior to submitting the assignment. Upon completing the assignment, we encourage you to compare your work against the solution file to perform a self-assessment.\n",
    "\n",
    "\n",
    "### Learning objectives\n",
    "\n",
    "\n",
    "- Define the concept of proximity for clustering methods\n",
    "- Outline the steps involved in hierarchical clustering\n",
    "- Understand why hierarchical clustering is myopic\n",
    "- Outline the steps involved in K-means clustering\n"
   ]
  },
  {
   "cell_type": "markdown",
   "metadata": {},
   "source": [
    "## Index:\n",
    "\n",
    "#### Week 10:   Clustering\n",
    "\n",
    "\n",
    "- [Part 1](#part1)- Importing the data set and exploratory data analysis (EDA)\n",
    "- [Part 2](#part2)- Data preprocessing\n",
    "- [Part 3](#part3)- Identify the areas in the city that experience more criminal activity\n",
    "- [Part 4](#part4)- Clustering without normalisation\n",
    "- [Part 5](#part5)- Clustering with normalisation\n",
    "- [Part 6](#part6) - Hierarchical clustering\n",
    "- [Part 7](#part7) - A simple example of hierarchical clustering\n",
    "\n",
    "\n",
    "\n",
    "\n",
    "## Clustering\n",
    "\n",
    "\n",
    "K-means clustering is a type of unsupervised learning, which is used when you have unlabelled data (i.e. data without defined categories or groups). The goal of this algorithm is to find groups in the data with the number of groups represented by the variable K. The algorithm works iteratively to assign each data point to one of the K groups based on the features that are provided. Data points are clustered based on the similarity in features. The results of the K-means clustering algorithm are as follows:\n",
    "\n",
    "- The centroids of the K clusters, which can be used to label new data\n",
    "\n",
    "- Labels for the training data (each data point is assigned to a single cluster)\n",
    "\n",
    "Rather than defining groups before looking at the data, clustering allows you to find and analyze the groups that have formed organically. The \"Choosing K\" section below describes how the number of groups can be determined.  \n",
    "\n",
    "Each centroid of a cluster is a collection of feature values which define the resulting groups. Examining the centroid feature weights can be used to qualitatively interpret the kind of group each cluster represents.\n"
   ]
  },
  {
   "cell_type": "markdown",
   "metadata": {},
   "source": [
    "### Visualising crimes in Chicago using clustering\n",
    "\n",
    "\n",
    "In this notebook, we will try and exploit information  regarding crimes in Chicago. We will perform the following steps:\n",
    "\n",
    "\n",
    "- 1. Read the `Crimes_2001_to_present_sample.csv` file in Python\n",
    "- 2. Drop the columns `X Coordinate`, `Y Coordinate`, `Updated On`, `Location`, `Beat`. Next, convert the column `Date` to datetime format and define two new columns, `date` and `time`.\n",
    "- 3. Define a dataframe, `sub_df` with the columns `Ward`, `IUCR` and  `District`. Impute all the missing values with the most frequent value in each column. Drop any non-numerical value in the column `IUCR`.\n",
    "- 4. Perform clustering without normalisation on the new dataframe. Compute the K-means for N=1,2,..,20 and their score to produce an elbow chart to predict the optimal number of clusters for this problem. Once you have identified this optimal number, recompute the K-mean.\n",
    "- 5. Perform clustering with normalisation on the new dataframe. Compute the K-means for N=1,2,..,20 and their score to produce an elbow chart to  predict the optimal number of clusters for this problem. Once you have identified this optimal number, recompute the K-mean.\n",
    "\n"
   ]
  },
  {
   "cell_type": "markdown",
   "metadata": {},
   "source": [
    "[Back to top](#Index:) \n",
    "\n",
    "<a id='part1'></a>\n",
    "\n",
    "### Part 1 -  Importing the data set and exploratory data analysis (EDA)\n",
    "\n",
    "The data set contains records from 2001 to present day, but with only 65k-66k records compared to the original dataset, which has around 6.6m records. If anyone is interested in analysing the original data set, it can be found [here](https://data.cityofchicago.org/Public-Safety/Crimes-2001-to-present/ijzp-q8t2).\n",
    "\n",
    "Nonetheless, 65k instances should be enough information to give us some good insights into the crime scene in Chicago. Let's get started by importing the necessary libraries."
   ]
  },
  {
   "cell_type": "code",
   "execution_count": 1,
   "metadata": {},
   "outputs": [],
   "source": [
    "import numpy as np\n",
    "import pandas as pd\n",
    "import seaborn as sns\n",
    "import matplotlib.pyplot as plt\n",
    "from mpl_toolkits.mplot3d import Axes3D\n",
    "%matplotlib inline\n",
    "import pylab as pl"
   ]
  },
  {
   "cell_type": "markdown",
   "metadata": {},
   "source": [
    " We will then use `pandas` to import the data set. Complete the code cell below by adding the name of the data set as a `str` to `.read_csv()`. Assign the dataframe to the variable `df`."
   ]
  },
  {
   "cell_type": "code",
   "execution_count": 2,
   "metadata": {},
   "outputs": [],
   "source": [
    "df = pd.read_csv('Crimes_2001_to_present_sample.csv')"
   ]
  },
  {
   "cell_type": "markdown",
   "metadata": {},
   "source": [
    "\n",
    "Before building any machine learning algorithms, we should explore the data.\n",
    "\n",
    "We begin by visualising the first ten rows of the dataframe `df` using the function `.head()`. By default, `.head()` displays the first five rows of a dataframe.\n",
    "\n",
    "Complete the code cell below by passing the desired number of rows as an `int` to the function `.head()`."
   ]
  },
  {
   "cell_type": "code",
   "execution_count": 3,
   "metadata": {},
   "outputs": [
    {
     "data": {
      "text/html": [
       "<div>\n",
       "<style scoped>\n",
       "    .dataframe tbody tr th:only-of-type {\n",
       "        vertical-align: middle;\n",
       "    }\n",
       "\n",
       "    .dataframe tbody tr th {\n",
       "        vertical-align: top;\n",
       "    }\n",
       "\n",
       "    .dataframe thead th {\n",
       "        text-align: right;\n",
       "    }\n",
       "</style>\n",
       "<table border=\"1\" class=\"dataframe\">\n",
       "  <thead>\n",
       "    <tr style=\"text-align: right;\">\n",
       "      <th></th>\n",
       "      <th>Unnamed: 0</th>\n",
       "      <th>ID</th>\n",
       "      <th>Case Number</th>\n",
       "      <th>Date</th>\n",
       "      <th>Block</th>\n",
       "      <th>IUCR</th>\n",
       "      <th>Primary Type</th>\n",
       "      <th>Description</th>\n",
       "      <th>Location Description</th>\n",
       "      <th>Arrest</th>\n",
       "      <th>...</th>\n",
       "      <th>Ward</th>\n",
       "      <th>Community Area</th>\n",
       "      <th>FBI Code</th>\n",
       "      <th>X Coordinate</th>\n",
       "      <th>Y Coordinate</th>\n",
       "      <th>Year</th>\n",
       "      <th>Updated On</th>\n",
       "      <th>Latitude</th>\n",
       "      <th>Longitude</th>\n",
       "      <th>Location</th>\n",
       "    </tr>\n",
       "  </thead>\n",
       "  <tbody>\n",
       "    <tr>\n",
       "      <th>0</th>\n",
       "      <td>4506608</td>\n",
       "      <td>9878952</td>\n",
       "      <td>HX529642</td>\n",
       "      <td>12/04/2014 09:30:00 AM</td>\n",
       "      <td>010XX E 47TH ST</td>\n",
       "      <td>0497</td>\n",
       "      <td>BATTERY</td>\n",
       "      <td>AGGRAVATED DOMESTIC BATTERY: OTHER DANG WEAPON</td>\n",
       "      <td>APARTMENT</td>\n",
       "      <td>False</td>\n",
       "      <td>...</td>\n",
       "      <td>4.0</td>\n",
       "      <td>39.0</td>\n",
       "      <td>04B</td>\n",
       "      <td>1183896.0</td>\n",
       "      <td>1874058.0</td>\n",
       "      <td>2014</td>\n",
       "      <td>02/04/2016 06:33:39 AM</td>\n",
       "      <td>41.809597</td>\n",
       "      <td>-87.601016</td>\n",
       "      <td>(41.809597, -87.601016)</td>\n",
       "    </tr>\n",
       "    <tr>\n",
       "      <th>1</th>\n",
       "      <td>561379</td>\n",
       "      <td>2514319</td>\n",
       "      <td>HH857213</td>\n",
       "      <td>12/24/2002 09:00:00 AM</td>\n",
       "      <td>055XX W CONGRESS PKWY</td>\n",
       "      <td>1320</td>\n",
       "      <td>CRIMINAL DAMAGE</td>\n",
       "      <td>TO VEHICLE</td>\n",
       "      <td>OTHER</td>\n",
       "      <td>False</td>\n",
       "      <td>...</td>\n",
       "      <td>29.0</td>\n",
       "      <td>25.0</td>\n",
       "      <td>14</td>\n",
       "      <td>1139530.0</td>\n",
       "      <td>1897135.0</td>\n",
       "      <td>2002</td>\n",
       "      <td>04/15/2016 08:55:02 AM</td>\n",
       "      <td>41.873845</td>\n",
       "      <td>-87.763183</td>\n",
       "      <td>(41.873845, -87.763183)</td>\n",
       "    </tr>\n",
       "    <tr>\n",
       "      <th>2</th>\n",
       "      <td>5058884</td>\n",
       "      <td>3891396</td>\n",
       "      <td>HL266026</td>\n",
       "      <td>03/31/2005 11:46:00 AM</td>\n",
       "      <td>050XX N KIMBALL AVE</td>\n",
       "      <td>141C</td>\n",
       "      <td>WEAPONS VIOLATION</td>\n",
       "      <td>UNLAWFUL USE OTHER DANG WEAPON</td>\n",
       "      <td>SCHOOL, PUBLIC, GROUNDS</td>\n",
       "      <td>True</td>\n",
       "      <td>...</td>\n",
       "      <td>39.0</td>\n",
       "      <td>13.0</td>\n",
       "      <td>15</td>\n",
       "      <td>1152801.0</td>\n",
       "      <td>1933422.0</td>\n",
       "      <td>2005</td>\n",
       "      <td>04/15/2016 08:55:02 AM</td>\n",
       "      <td>41.973168</td>\n",
       "      <td>-87.713495</td>\n",
       "      <td>(41.973168, -87.713495)</td>\n",
       "    </tr>\n",
       "    <tr>\n",
       "      <th>3</th>\n",
       "      <td>3619502</td>\n",
       "      <td>4983700</td>\n",
       "      <td>HM446634</td>\n",
       "      <td>06/30/2006 04:44:00 PM</td>\n",
       "      <td>034XX W CHICAGO AVE</td>\n",
       "      <td>2092</td>\n",
       "      <td>NARCOTICS</td>\n",
       "      <td>SOLICIT NARCOTICS ON PUBLICWAY</td>\n",
       "      <td>SIDEWALK</td>\n",
       "      <td>True</td>\n",
       "      <td>...</td>\n",
       "      <td>27.0</td>\n",
       "      <td>23.0</td>\n",
       "      <td>26</td>\n",
       "      <td>1153483.0</td>\n",
       "      <td>1905125.0</td>\n",
       "      <td>2006</td>\n",
       "      <td>04/15/2016 08:55:02 AM</td>\n",
       "      <td>41.895505</td>\n",
       "      <td>-87.711742</td>\n",
       "      <td>(41.895505, -87.711742)</td>\n",
       "    </tr>\n",
       "    <tr>\n",
       "      <th>4</th>\n",
       "      <td>5533749</td>\n",
       "      <td>5284225</td>\n",
       "      <td>HM654977</td>\n",
       "      <td>10/11/2006 11:05:00 PM</td>\n",
       "      <td>007XX S CICERO AVE</td>\n",
       "      <td>1506</td>\n",
       "      <td>PROSTITUTION</td>\n",
       "      <td>SOLICIT ON PUBLIC WAY</td>\n",
       "      <td>STREET</td>\n",
       "      <td>True</td>\n",
       "      <td>...</td>\n",
       "      <td>24.0</td>\n",
       "      <td>25.0</td>\n",
       "      <td>16</td>\n",
       "      <td>1144509.0</td>\n",
       "      <td>1896222.0</td>\n",
       "      <td>2006</td>\n",
       "      <td>04/15/2016 08:55:02 AM</td>\n",
       "      <td>41.871248</td>\n",
       "      <td>-87.744926</td>\n",
       "      <td>(41.871248, -87.744926)</td>\n",
       "    </tr>\n",
       "    <tr>\n",
       "      <th>5</th>\n",
       "      <td>6162396</td>\n",
       "      <td>2182182</td>\n",
       "      <td>HH429064</td>\n",
       "      <td>06/09/2002 05:00:23 AM</td>\n",
       "      <td>045XX N ASHLAND AVE</td>\n",
       "      <td>1811</td>\n",
       "      <td>NARCOTICS</td>\n",
       "      <td>POSS: CANNABIS 30GMS OR LESS</td>\n",
       "      <td>STREET</td>\n",
       "      <td>True</td>\n",
       "      <td>...</td>\n",
       "      <td>47.0</td>\n",
       "      <td>3.0</td>\n",
       "      <td>18</td>\n",
       "      <td>1164839.0</td>\n",
       "      <td>1930205.0</td>\n",
       "      <td>2002</td>\n",
       "      <td>04/15/2016 08:55:02 AM</td>\n",
       "      <td>41.964093</td>\n",
       "      <td>-87.669321</td>\n",
       "      <td>(41.964093, -87.669321)</td>\n",
       "    </tr>\n",
       "    <tr>\n",
       "      <th>6</th>\n",
       "      <td>720409</td>\n",
       "      <td>2839797</td>\n",
       "      <td>HJ500224</td>\n",
       "      <td>07/16/2003 05:45:00 PM</td>\n",
       "      <td>016XX N MAPLEWOOD AVE</td>\n",
       "      <td>0620</td>\n",
       "      <td>BURGLARY</td>\n",
       "      <td>UNLAWFUL ENTRY</td>\n",
       "      <td>PARK PROPERTY</td>\n",
       "      <td>False</td>\n",
       "      <td>...</td>\n",
       "      <td>1.0</td>\n",
       "      <td>24.0</td>\n",
       "      <td>05</td>\n",
       "      <td>1159114.0</td>\n",
       "      <td>1910852.0</td>\n",
       "      <td>2003</td>\n",
       "      <td>04/15/2016 08:55:02 AM</td>\n",
       "      <td>41.911107</td>\n",
       "      <td>-87.690903</td>\n",
       "      <td>(41.911107, -87.690903)</td>\n",
       "    </tr>\n",
       "    <tr>\n",
       "      <th>7</th>\n",
       "      <td>2251410</td>\n",
       "      <td>7313423</td>\n",
       "      <td>HS117845</td>\n",
       "      <td>01/12/2010 10:30:00 PM</td>\n",
       "      <td>015XX S SANGAMON ST</td>\n",
       "      <td>0810</td>\n",
       "      <td>THEFT</td>\n",
       "      <td>OVER $500</td>\n",
       "      <td>STREET</td>\n",
       "      <td>False</td>\n",
       "      <td>...</td>\n",
       "      <td>25.0</td>\n",
       "      <td>28.0</td>\n",
       "      <td>06</td>\n",
       "      <td>1170443.0</td>\n",
       "      <td>1892718.0</td>\n",
       "      <td>2010</td>\n",
       "      <td>02/04/2016 06:33:39 AM</td>\n",
       "      <td>41.861105</td>\n",
       "      <td>-87.649815</td>\n",
       "      <td>(41.861105, -87.649815)</td>\n",
       "    </tr>\n",
       "    <tr>\n",
       "      <th>8</th>\n",
       "      <td>557591</td>\n",
       "      <td>10374717</td>\n",
       "      <td>HZ110903</td>\n",
       "      <td>12/27/2015 02:13:00 AM</td>\n",
       "      <td>050XX S WASHINGTON PARK CT</td>\n",
       "      <td>2820</td>\n",
       "      <td>OTHER OFFENSE</td>\n",
       "      <td>TELEPHONE THREAT</td>\n",
       "      <td>APARTMENT</td>\n",
       "      <td>False</td>\n",
       "      <td>...</td>\n",
       "      <td>3.0</td>\n",
       "      <td>38.0</td>\n",
       "      <td>26</td>\n",
       "      <td>NaN</td>\n",
       "      <td>NaN</td>\n",
       "      <td>2015</td>\n",
       "      <td>01/15/2016 12:18:25 PM</td>\n",
       "      <td>NaN</td>\n",
       "      <td>NaN</td>\n",
       "      <td>NaN</td>\n",
       "    </tr>\n",
       "    <tr>\n",
       "      <th>9</th>\n",
       "      <td>4676604</td>\n",
       "      <td>3339646</td>\n",
       "      <td>HK381485</td>\n",
       "      <td>05/22/2004 07:07:14 PM</td>\n",
       "      <td>001XX N STATE ST</td>\n",
       "      <td>0860</td>\n",
       "      <td>THEFT</td>\n",
       "      <td>RETAIL THEFT</td>\n",
       "      <td>DEPARTMENT STORE</td>\n",
       "      <td>True</td>\n",
       "      <td>...</td>\n",
       "      <td>42.0</td>\n",
       "      <td>32.0</td>\n",
       "      <td>06</td>\n",
       "      <td>1176352.0</td>\n",
       "      <td>1900927.0</td>\n",
       "      <td>2004</td>\n",
       "      <td>04/15/2016 08:55:02 AM</td>\n",
       "      <td>41.883500</td>\n",
       "      <td>-87.627877</td>\n",
       "      <td>(41.8835, -87.627877)</td>\n",
       "    </tr>\n",
       "  </tbody>\n",
       "</table>\n",
       "<p>10 rows × 23 columns</p>\n",
       "</div>"
      ],
      "text/plain": [
       "   Unnamed: 0        ID Case Number                    Date  \\\n",
       "0     4506608   9878952    HX529642  12/04/2014 09:30:00 AM   \n",
       "1      561379   2514319    HH857213  12/24/2002 09:00:00 AM   \n",
       "2     5058884   3891396    HL266026  03/31/2005 11:46:00 AM   \n",
       "3     3619502   4983700    HM446634  06/30/2006 04:44:00 PM   \n",
       "4     5533749   5284225    HM654977  10/11/2006 11:05:00 PM   \n",
       "5     6162396   2182182    HH429064  06/09/2002 05:00:23 AM   \n",
       "6      720409   2839797    HJ500224  07/16/2003 05:45:00 PM   \n",
       "7     2251410   7313423    HS117845  01/12/2010 10:30:00 PM   \n",
       "8      557591  10374717    HZ110903  12/27/2015 02:13:00 AM   \n",
       "9     4676604   3339646    HK381485  05/22/2004 07:07:14 PM   \n",
       "\n",
       "                        Block  IUCR       Primary Type  \\\n",
       "0             010XX E 47TH ST  0497            BATTERY   \n",
       "1       055XX W CONGRESS PKWY  1320    CRIMINAL DAMAGE   \n",
       "2         050XX N KIMBALL AVE  141C  WEAPONS VIOLATION   \n",
       "3         034XX W CHICAGO AVE  2092          NARCOTICS   \n",
       "4          007XX S CICERO AVE  1506       PROSTITUTION   \n",
       "5         045XX N ASHLAND AVE  1811          NARCOTICS   \n",
       "6       016XX N MAPLEWOOD AVE  0620           BURGLARY   \n",
       "7         015XX S SANGAMON ST  0810              THEFT   \n",
       "8  050XX S WASHINGTON PARK CT  2820      OTHER OFFENSE   \n",
       "9            001XX N STATE ST  0860              THEFT   \n",
       "\n",
       "                                      Description     Location Description  \\\n",
       "0  AGGRAVATED DOMESTIC BATTERY: OTHER DANG WEAPON                APARTMENT   \n",
       "1                                      TO VEHICLE                    OTHER   \n",
       "2                  UNLAWFUL USE OTHER DANG WEAPON  SCHOOL, PUBLIC, GROUNDS   \n",
       "3                  SOLICIT NARCOTICS ON PUBLICWAY                 SIDEWALK   \n",
       "4                           SOLICIT ON PUBLIC WAY                   STREET   \n",
       "5                    POSS: CANNABIS 30GMS OR LESS                   STREET   \n",
       "6                                  UNLAWFUL ENTRY            PARK PROPERTY   \n",
       "7                                       OVER $500                   STREET   \n",
       "8                                TELEPHONE THREAT                APARTMENT   \n",
       "9                                    RETAIL THEFT         DEPARTMENT STORE   \n",
       "\n",
       "   Arrest  ...  Ward  Community Area  FBI Code  X Coordinate  Y Coordinate  \\\n",
       "0   False  ...   4.0            39.0       04B     1183896.0     1874058.0   \n",
       "1   False  ...  29.0            25.0        14     1139530.0     1897135.0   \n",
       "2    True  ...  39.0            13.0        15     1152801.0     1933422.0   \n",
       "3    True  ...  27.0            23.0        26     1153483.0     1905125.0   \n",
       "4    True  ...  24.0            25.0        16     1144509.0     1896222.0   \n",
       "5    True  ...  47.0             3.0        18     1164839.0     1930205.0   \n",
       "6   False  ...   1.0            24.0        05     1159114.0     1910852.0   \n",
       "7   False  ...  25.0            28.0        06     1170443.0     1892718.0   \n",
       "8   False  ...   3.0            38.0        26           NaN           NaN   \n",
       "9    True  ...  42.0            32.0        06     1176352.0     1900927.0   \n",
       "\n",
       "   Year              Updated On   Latitude  Longitude                 Location  \n",
       "0  2014  02/04/2016 06:33:39 AM  41.809597 -87.601016  (41.809597, -87.601016)  \n",
       "1  2002  04/15/2016 08:55:02 AM  41.873845 -87.763183  (41.873845, -87.763183)  \n",
       "2  2005  04/15/2016 08:55:02 AM  41.973168 -87.713495  (41.973168, -87.713495)  \n",
       "3  2006  04/15/2016 08:55:02 AM  41.895505 -87.711742  (41.895505, -87.711742)  \n",
       "4  2006  04/15/2016 08:55:02 AM  41.871248 -87.744926  (41.871248, -87.744926)  \n",
       "5  2002  04/15/2016 08:55:02 AM  41.964093 -87.669321  (41.964093, -87.669321)  \n",
       "6  2003  04/15/2016 08:55:02 AM  41.911107 -87.690903  (41.911107, -87.690903)  \n",
       "7  2010  02/04/2016 06:33:39 AM  41.861105 -87.649815  (41.861105, -87.649815)  \n",
       "8  2015  01/15/2016 12:18:25 PM        NaN        NaN                      NaN  \n",
       "9  2004  04/15/2016 08:55:02 AM  41.883500 -87.627877    (41.8835, -87.627877)  \n",
       "\n",
       "[10 rows x 23 columns]"
      ]
     },
     "execution_count": 3,
     "metadata": {},
     "output_type": "execute_result"
    }
   ],
   "source": [
    "df.head(10)"
   ]
  },
  {
   "cell_type": "markdown",
   "metadata": {},
   "source": [
    "[Back to top](#Index:) \n",
    "\n",
    "<a id='part2'></a>\n",
    "\n",
    "### Part 2 - Data preprocessing\n",
    "\n",
    "When building any machine learning algorithm, it is always useful, after analysing your data, to eliminate features that are redundant or that won't be useful in our analysis.\n",
    "\n",
    "Complete the code cell below to drop the columns `X Coordinate`, `Y Coordinate`, `Updated On`, `Location`, `Beat`. Remember to include the names of the columns in square brackets and that the axis parameter in `.drop()` controls whether the function acts on rows or columns."
   ]
  },
  {
   "cell_type": "code",
   "execution_count": 4,
   "metadata": {},
   "outputs": [
    {
     "data": {
      "text/html": [
       "<div>\n",
       "<style scoped>\n",
       "    .dataframe tbody tr th:only-of-type {\n",
       "        vertical-align: middle;\n",
       "    }\n",
       "\n",
       "    .dataframe tbody tr th {\n",
       "        vertical-align: top;\n",
       "    }\n",
       "\n",
       "    .dataframe thead th {\n",
       "        text-align: right;\n",
       "    }\n",
       "</style>\n",
       "<table border=\"1\" class=\"dataframe\">\n",
       "  <thead>\n",
       "    <tr style=\"text-align: right;\">\n",
       "      <th></th>\n",
       "      <th>Unnamed: 0</th>\n",
       "      <th>ID</th>\n",
       "      <th>Case Number</th>\n",
       "      <th>Date</th>\n",
       "      <th>Block</th>\n",
       "      <th>IUCR</th>\n",
       "      <th>Primary Type</th>\n",
       "      <th>Description</th>\n",
       "      <th>Location Description</th>\n",
       "      <th>Arrest</th>\n",
       "      <th>Domestic</th>\n",
       "      <th>District</th>\n",
       "      <th>Ward</th>\n",
       "      <th>Community Area</th>\n",
       "      <th>FBI Code</th>\n",
       "      <th>Year</th>\n",
       "      <th>Latitude</th>\n",
       "      <th>Longitude</th>\n",
       "    </tr>\n",
       "  </thead>\n",
       "  <tbody>\n",
       "    <tr>\n",
       "      <th>0</th>\n",
       "      <td>4506608</td>\n",
       "      <td>9878952</td>\n",
       "      <td>HX529642</td>\n",
       "      <td>12/04/2014 09:30:00 AM</td>\n",
       "      <td>010XX E 47TH ST</td>\n",
       "      <td>0497</td>\n",
       "      <td>BATTERY</td>\n",
       "      <td>AGGRAVATED DOMESTIC BATTERY: OTHER DANG WEAPON</td>\n",
       "      <td>APARTMENT</td>\n",
       "      <td>False</td>\n",
       "      <td>True</td>\n",
       "      <td>2.0</td>\n",
       "      <td>4.0</td>\n",
       "      <td>39.0</td>\n",
       "      <td>04B</td>\n",
       "      <td>2014</td>\n",
       "      <td>41.809597</td>\n",
       "      <td>-87.601016</td>\n",
       "    </tr>\n",
       "    <tr>\n",
       "      <th>1</th>\n",
       "      <td>561379</td>\n",
       "      <td>2514319</td>\n",
       "      <td>HH857213</td>\n",
       "      <td>12/24/2002 09:00:00 AM</td>\n",
       "      <td>055XX W CONGRESS PKWY</td>\n",
       "      <td>1320</td>\n",
       "      <td>CRIMINAL DAMAGE</td>\n",
       "      <td>TO VEHICLE</td>\n",
       "      <td>OTHER</td>\n",
       "      <td>False</td>\n",
       "      <td>True</td>\n",
       "      <td>15.0</td>\n",
       "      <td>29.0</td>\n",
       "      <td>25.0</td>\n",
       "      <td>14</td>\n",
       "      <td>2002</td>\n",
       "      <td>41.873845</td>\n",
       "      <td>-87.763183</td>\n",
       "    </tr>\n",
       "    <tr>\n",
       "      <th>2</th>\n",
       "      <td>5058884</td>\n",
       "      <td>3891396</td>\n",
       "      <td>HL266026</td>\n",
       "      <td>03/31/2005 11:46:00 AM</td>\n",
       "      <td>050XX N KIMBALL AVE</td>\n",
       "      <td>141C</td>\n",
       "      <td>WEAPONS VIOLATION</td>\n",
       "      <td>UNLAWFUL USE OTHER DANG WEAPON</td>\n",
       "      <td>SCHOOL, PUBLIC, GROUNDS</td>\n",
       "      <td>True</td>\n",
       "      <td>False</td>\n",
       "      <td>17.0</td>\n",
       "      <td>39.0</td>\n",
       "      <td>13.0</td>\n",
       "      <td>15</td>\n",
       "      <td>2005</td>\n",
       "      <td>41.973168</td>\n",
       "      <td>-87.713495</td>\n",
       "    </tr>\n",
       "    <tr>\n",
       "      <th>3</th>\n",
       "      <td>3619502</td>\n",
       "      <td>4983700</td>\n",
       "      <td>HM446634</td>\n",
       "      <td>06/30/2006 04:44:00 PM</td>\n",
       "      <td>034XX W CHICAGO AVE</td>\n",
       "      <td>2092</td>\n",
       "      <td>NARCOTICS</td>\n",
       "      <td>SOLICIT NARCOTICS ON PUBLICWAY</td>\n",
       "      <td>SIDEWALK</td>\n",
       "      <td>True</td>\n",
       "      <td>False</td>\n",
       "      <td>11.0</td>\n",
       "      <td>27.0</td>\n",
       "      <td>23.0</td>\n",
       "      <td>26</td>\n",
       "      <td>2006</td>\n",
       "      <td>41.895505</td>\n",
       "      <td>-87.711742</td>\n",
       "    </tr>\n",
       "    <tr>\n",
       "      <th>4</th>\n",
       "      <td>5533749</td>\n",
       "      <td>5284225</td>\n",
       "      <td>HM654977</td>\n",
       "      <td>10/11/2006 11:05:00 PM</td>\n",
       "      <td>007XX S CICERO AVE</td>\n",
       "      <td>1506</td>\n",
       "      <td>PROSTITUTION</td>\n",
       "      <td>SOLICIT ON PUBLIC WAY</td>\n",
       "      <td>STREET</td>\n",
       "      <td>True</td>\n",
       "      <td>False</td>\n",
       "      <td>11.0</td>\n",
       "      <td>24.0</td>\n",
       "      <td>25.0</td>\n",
       "      <td>16</td>\n",
       "      <td>2006</td>\n",
       "      <td>41.871248</td>\n",
       "      <td>-87.744926</td>\n",
       "    </tr>\n",
       "    <tr>\n",
       "      <th>...</th>\n",
       "      <td>...</td>\n",
       "      <td>...</td>\n",
       "      <td>...</td>\n",
       "      <td>...</td>\n",
       "      <td>...</td>\n",
       "      <td>...</td>\n",
       "      <td>...</td>\n",
       "      <td>...</td>\n",
       "      <td>...</td>\n",
       "      <td>...</td>\n",
       "      <td>...</td>\n",
       "      <td>...</td>\n",
       "      <td>...</td>\n",
       "      <td>...</td>\n",
       "      <td>...</td>\n",
       "      <td>...</td>\n",
       "      <td>...</td>\n",
       "      <td>...</td>\n",
       "    </tr>\n",
       "    <tr>\n",
       "      <th>62828</th>\n",
       "      <td>2329738</td>\n",
       "      <td>7370796</td>\n",
       "      <td>HS173036</td>\n",
       "      <td>02/20/2010 06:06:00 AM</td>\n",
       "      <td>008XX W NORTH AVE</td>\n",
       "      <td>143A</td>\n",
       "      <td>WEAPONS VIOLATION</td>\n",
       "      <td>UNLAWFUL POSS OF HANDGUN</td>\n",
       "      <td>STREET</td>\n",
       "      <td>True</td>\n",
       "      <td>False</td>\n",
       "      <td>18.0</td>\n",
       "      <td>43.0</td>\n",
       "      <td>8.0</td>\n",
       "      <td>15</td>\n",
       "      <td>2010</td>\n",
       "      <td>41.910888</td>\n",
       "      <td>-87.650199</td>\n",
       "    </tr>\n",
       "    <tr>\n",
       "      <th>62829</th>\n",
       "      <td>6105927</td>\n",
       "      <td>1953820</td>\n",
       "      <td>HH142713</td>\n",
       "      <td>01/23/2002 04:15:00 AM</td>\n",
       "      <td>0000X W 68 ST</td>\n",
       "      <td>1310</td>\n",
       "      <td>CRIMINAL DAMAGE</td>\n",
       "      <td>TO PROPERTY</td>\n",
       "      <td>RESIDENCE-GARAGE</td>\n",
       "      <td>False</td>\n",
       "      <td>False</td>\n",
       "      <td>7.0</td>\n",
       "      <td>NaN</td>\n",
       "      <td>NaN</td>\n",
       "      <td>14</td>\n",
       "      <td>2002</td>\n",
       "      <td>41.770914</td>\n",
       "      <td>-87.627048</td>\n",
       "    </tr>\n",
       "    <tr>\n",
       "      <th>62830</th>\n",
       "      <td>4691982</td>\n",
       "      <td>3360661</td>\n",
       "      <td>HK392170</td>\n",
       "      <td>05/27/2004 05:55:25 PM</td>\n",
       "      <td>076XX S CICERO AVE</td>\n",
       "      <td>0860</td>\n",
       "      <td>THEFT</td>\n",
       "      <td>RETAIL THEFT</td>\n",
       "      <td>SMALL RETAIL STORE</td>\n",
       "      <td>False</td>\n",
       "      <td>False</td>\n",
       "      <td>8.0</td>\n",
       "      <td>13.0</td>\n",
       "      <td>65.0</td>\n",
       "      <td>06</td>\n",
       "      <td>2004</td>\n",
       "      <td>41.754593</td>\n",
       "      <td>-87.741529</td>\n",
       "    </tr>\n",
       "    <tr>\n",
       "      <th>62831</th>\n",
       "      <td>2124391</td>\n",
       "      <td>7133885</td>\n",
       "      <td>HR542961</td>\n",
       "      <td>09/18/2009 12:01:00 AM</td>\n",
       "      <td>034XX W IRVING PARK RD</td>\n",
       "      <td>0910</td>\n",
       "      <td>MOTOR VEHICLE THEFT</td>\n",
       "      <td>AUTOMOBILE</td>\n",
       "      <td>STREET</td>\n",
       "      <td>False</td>\n",
       "      <td>False</td>\n",
       "      <td>17.0</td>\n",
       "      <td>35.0</td>\n",
       "      <td>16.0</td>\n",
       "      <td>07</td>\n",
       "      <td>2009</td>\n",
       "      <td>41.953833</td>\n",
       "      <td>-87.714664</td>\n",
       "    </tr>\n",
       "    <tr>\n",
       "      <th>62832</th>\n",
       "      <td>4538438</td>\n",
       "      <td>3143413</td>\n",
       "      <td>HK136011</td>\n",
       "      <td>01/20/2004 03:30:00 PM</td>\n",
       "      <td>106XX S HALSTED ST</td>\n",
       "      <td>0860</td>\n",
       "      <td>THEFT</td>\n",
       "      <td>RETAIL THEFT</td>\n",
       "      <td>DRUG STORE</td>\n",
       "      <td>False</td>\n",
       "      <td>False</td>\n",
       "      <td>22.0</td>\n",
       "      <td>34.0</td>\n",
       "      <td>73.0</td>\n",
       "      <td>06</td>\n",
       "      <td>2004</td>\n",
       "      <td>41.700818</td>\n",
       "      <td>-87.642646</td>\n",
       "    </tr>\n",
       "  </tbody>\n",
       "</table>\n",
       "<p>62833 rows × 18 columns</p>\n",
       "</div>"
      ],
      "text/plain": [
       "       Unnamed: 0       ID Case Number                    Date  \\\n",
       "0         4506608  9878952    HX529642  12/04/2014 09:30:00 AM   \n",
       "1          561379  2514319    HH857213  12/24/2002 09:00:00 AM   \n",
       "2         5058884  3891396    HL266026  03/31/2005 11:46:00 AM   \n",
       "3         3619502  4983700    HM446634  06/30/2006 04:44:00 PM   \n",
       "4         5533749  5284225    HM654977  10/11/2006 11:05:00 PM   \n",
       "...           ...      ...         ...                     ...   \n",
       "62828     2329738  7370796    HS173036  02/20/2010 06:06:00 AM   \n",
       "62829     6105927  1953820    HH142713  01/23/2002 04:15:00 AM   \n",
       "62830     4691982  3360661    HK392170  05/27/2004 05:55:25 PM   \n",
       "62831     2124391  7133885    HR542961  09/18/2009 12:01:00 AM   \n",
       "62832     4538438  3143413    HK136011  01/20/2004 03:30:00 PM   \n",
       "\n",
       "                        Block  IUCR         Primary Type  \\\n",
       "0             010XX E 47TH ST  0497              BATTERY   \n",
       "1       055XX W CONGRESS PKWY  1320      CRIMINAL DAMAGE   \n",
       "2         050XX N KIMBALL AVE  141C    WEAPONS VIOLATION   \n",
       "3         034XX W CHICAGO AVE  2092            NARCOTICS   \n",
       "4          007XX S CICERO AVE  1506         PROSTITUTION   \n",
       "...                       ...   ...                  ...   \n",
       "62828       008XX W NORTH AVE  143A    WEAPONS VIOLATION   \n",
       "62829           0000X W 68 ST  1310      CRIMINAL DAMAGE   \n",
       "62830      076XX S CICERO AVE  0860                THEFT   \n",
       "62831  034XX W IRVING PARK RD  0910  MOTOR VEHICLE THEFT   \n",
       "62832      106XX S HALSTED ST  0860                THEFT   \n",
       "\n",
       "                                          Description  \\\n",
       "0      AGGRAVATED DOMESTIC BATTERY: OTHER DANG WEAPON   \n",
       "1                                          TO VEHICLE   \n",
       "2                      UNLAWFUL USE OTHER DANG WEAPON   \n",
       "3                      SOLICIT NARCOTICS ON PUBLICWAY   \n",
       "4                               SOLICIT ON PUBLIC WAY   \n",
       "...                                               ...   \n",
       "62828                        UNLAWFUL POSS OF HANDGUN   \n",
       "62829                                     TO PROPERTY   \n",
       "62830                                    RETAIL THEFT   \n",
       "62831                                      AUTOMOBILE   \n",
       "62832                                    RETAIL THEFT   \n",
       "\n",
       "          Location Description  Arrest  Domestic  District  Ward  \\\n",
       "0                    APARTMENT   False      True       2.0   4.0   \n",
       "1                        OTHER   False      True      15.0  29.0   \n",
       "2      SCHOOL, PUBLIC, GROUNDS    True     False      17.0  39.0   \n",
       "3                     SIDEWALK    True     False      11.0  27.0   \n",
       "4                       STREET    True     False      11.0  24.0   \n",
       "...                        ...     ...       ...       ...   ...   \n",
       "62828                   STREET    True     False      18.0  43.0   \n",
       "62829         RESIDENCE-GARAGE   False     False       7.0   NaN   \n",
       "62830       SMALL RETAIL STORE   False     False       8.0  13.0   \n",
       "62831                   STREET   False     False      17.0  35.0   \n",
       "62832               DRUG STORE   False     False      22.0  34.0   \n",
       "\n",
       "       Community Area FBI Code  Year   Latitude  Longitude  \n",
       "0                39.0      04B  2014  41.809597 -87.601016  \n",
       "1                25.0       14  2002  41.873845 -87.763183  \n",
       "2                13.0       15  2005  41.973168 -87.713495  \n",
       "3                23.0       26  2006  41.895505 -87.711742  \n",
       "4                25.0       16  2006  41.871248 -87.744926  \n",
       "...               ...      ...   ...        ...        ...  \n",
       "62828             8.0       15  2010  41.910888 -87.650199  \n",
       "62829             NaN       14  2002  41.770914 -87.627048  \n",
       "62830            65.0       06  2004  41.754593 -87.741529  \n",
       "62831            16.0       07  2009  41.953833 -87.714664  \n",
       "62832            73.0       06  2004  41.700818 -87.642646  \n",
       "\n",
       "[62833 rows x 18 columns]"
      ]
     },
     "execution_count": 4,
     "metadata": {},
     "output_type": "execute_result"
    }
   ],
   "source": [
    "#complete the arguments to be passed to the function drop according to the instructions given above\n",
    "df.drop([\"X Coordinate\", \"Y Coordinate\", \"Updated On\", \"Location\", \"Beat\"], axis=1)"
   ]
  },
  {
   "cell_type": "markdown",
   "metadata": {},
   "source": [
    "It may be useful for our analysis to know the date and the time when a certain crime happened. All this information is enclosed in the column `Date`. However, if you run the cell below, you may observe that the entries in `Date` are of type \"object\" instead of a date-specific object like `Timestamp`."
   ]
  },
  {
   "cell_type": "code",
   "execution_count": 5,
   "metadata": {},
   "outputs": [
    {
     "name": "stdout",
     "output_type": "stream",
     "text": [
      "object\n"
     ]
    }
   ],
   "source": [
    "print(df.Date.dtype)"
   ]
  },
  {
   "cell_type": "markdown",
   "metadata": {},
   "source": [
    "Luckily,  `pandas` comes with a very powerful function, `datetime()`, that can convert date strings to the datetime format. Documentation about this function can be found [here](https://pandas.pydata.org/pandas-docs/stable/reference/api/pandas.to_datetime.html).\n",
    "\n",
    "Complete the code cell below by applying the function `datetime` on the column `Date`."
   ]
  },
  {
   "cell_type": "code",
   "execution_count": 6,
   "metadata": {},
   "outputs": [],
   "source": [
    "df[\"Date\"] = pd.to_datetime(df[\"Date\"])"
   ]
  },
  {
   "cell_type": "code",
   "execution_count": 7,
   "metadata": {},
   "outputs": [
    {
     "data": {
      "text/plain": [
       "0       2014-12-04 09:30:00\n",
       "1       2002-12-24 09:00:00\n",
       "2       2005-03-31 11:46:00\n",
       "3       2006-06-30 16:44:00\n",
       "4       2006-10-11 23:05:00\n",
       "                ...        \n",
       "62828   2010-02-20 06:06:00\n",
       "62829   2002-01-23 04:15:00\n",
       "62830   2004-05-27 17:55:25\n",
       "62831   2009-09-18 00:01:00\n",
       "62832   2004-01-20 15:30:00\n",
       "Name: Date, Length: 62833, dtype: datetime64[ns]"
      ]
     },
     "execution_count": 7,
     "metadata": {},
     "output_type": "execute_result"
    }
   ],
   "source": [
    "df[\"Date\"]"
   ]
  },
  {
   "cell_type": "markdown",
   "metadata": {},
   "source": [
    "The function `datetime` is so powerful that it allows us to separate the date from the time.\n",
    "\n",
    "Run the code cell below to see how we create a new column `date` containing just the date of the crime. This cell uses list comprehension to convert each date and time in `Date` to a date. The resulting list is reassigned to the column `date`."
   ]
  },
  {
   "cell_type": "code",
   "execution_count": 8,
   "metadata": {},
   "outputs": [],
   "source": [
    "df['date'] = [d.date() for d in df['Date']]"
   ]
  },
  {
   "cell_type": "code",
   "execution_count": 9,
   "metadata": {},
   "outputs": [
    {
     "data": {
      "text/plain": [
       "0        2014-12-04\n",
       "1        2002-12-24\n",
       "2        2005-03-31\n",
       "3        2006-06-30\n",
       "4        2006-10-11\n",
       "            ...    \n",
       "62828    2010-02-20\n",
       "62829    2002-01-23\n",
       "62830    2004-05-27\n",
       "62831    2009-09-18\n",
       "62832    2004-01-20\n",
       "Name: date, Length: 62833, dtype: object"
      ]
     },
     "execution_count": 9,
     "metadata": {},
     "output_type": "execute_result"
    }
   ],
   "source": [
    "df['date']"
   ]
  },
  {
   "cell_type": "markdown",
   "metadata": {},
   "source": [
    "Following the syntax used in the code cell above, complete the cell below to create a columns `time` that contains the time at which each crime happened."
   ]
  },
  {
   "cell_type": "code",
   "execution_count": 10,
   "metadata": {},
   "outputs": [
    {
     "data": {
      "text/plain": [
       "0        09:30:00\n",
       "1        09:00:00\n",
       "2        11:46:00\n",
       "3        16:44:00\n",
       "4        23:05:00\n",
       "           ...   \n",
       "62828    06:06:00\n",
       "62829    04:15:00\n",
       "62830    17:55:25\n",
       "62831    00:01:00\n",
       "62832    15:30:00\n",
       "Name: time, Length: 62833, dtype: object"
      ]
     },
     "execution_count": 10,
     "metadata": {},
     "output_type": "execute_result"
    }
   ],
   "source": [
    "df['time'] = [d.time() for d in df['Date']]\n",
    "df['time']"
   ]
  },
  {
   "cell_type": "markdown",
   "metadata": {},
   "source": [
    "Let's visualise the new dataframe. Notice the two new columns we have just created."
   ]
  },
  {
   "cell_type": "code",
   "execution_count": 11,
   "metadata": {},
   "outputs": [
    {
     "data": {
      "text/html": [
       "<div>\n",
       "<style scoped>\n",
       "    .dataframe tbody tr th:only-of-type {\n",
       "        vertical-align: middle;\n",
       "    }\n",
       "\n",
       "    .dataframe tbody tr th {\n",
       "        vertical-align: top;\n",
       "    }\n",
       "\n",
       "    .dataframe thead th {\n",
       "        text-align: right;\n",
       "    }\n",
       "</style>\n",
       "<table border=\"1\" class=\"dataframe\">\n",
       "  <thead>\n",
       "    <tr style=\"text-align: right;\">\n",
       "      <th></th>\n",
       "      <th>Unnamed: 0</th>\n",
       "      <th>ID</th>\n",
       "      <th>Case Number</th>\n",
       "      <th>Date</th>\n",
       "      <th>Block</th>\n",
       "      <th>IUCR</th>\n",
       "      <th>Primary Type</th>\n",
       "      <th>Description</th>\n",
       "      <th>Location Description</th>\n",
       "      <th>Arrest</th>\n",
       "      <th>...</th>\n",
       "      <th>FBI Code</th>\n",
       "      <th>X Coordinate</th>\n",
       "      <th>Y Coordinate</th>\n",
       "      <th>Year</th>\n",
       "      <th>Updated On</th>\n",
       "      <th>Latitude</th>\n",
       "      <th>Longitude</th>\n",
       "      <th>Location</th>\n",
       "      <th>date</th>\n",
       "      <th>time</th>\n",
       "    </tr>\n",
       "  </thead>\n",
       "  <tbody>\n",
       "    <tr>\n",
       "      <th>0</th>\n",
       "      <td>4506608</td>\n",
       "      <td>9878952</td>\n",
       "      <td>HX529642</td>\n",
       "      <td>2014-12-04 09:30:00</td>\n",
       "      <td>010XX E 47TH ST</td>\n",
       "      <td>0497</td>\n",
       "      <td>BATTERY</td>\n",
       "      <td>AGGRAVATED DOMESTIC BATTERY: OTHER DANG WEAPON</td>\n",
       "      <td>APARTMENT</td>\n",
       "      <td>False</td>\n",
       "      <td>...</td>\n",
       "      <td>04B</td>\n",
       "      <td>1183896.0</td>\n",
       "      <td>1874058.0</td>\n",
       "      <td>2014</td>\n",
       "      <td>02/04/2016 06:33:39 AM</td>\n",
       "      <td>41.809597</td>\n",
       "      <td>-87.601016</td>\n",
       "      <td>(41.809597, -87.601016)</td>\n",
       "      <td>2014-12-04</td>\n",
       "      <td>09:30:00</td>\n",
       "    </tr>\n",
       "    <tr>\n",
       "      <th>1</th>\n",
       "      <td>561379</td>\n",
       "      <td>2514319</td>\n",
       "      <td>HH857213</td>\n",
       "      <td>2002-12-24 09:00:00</td>\n",
       "      <td>055XX W CONGRESS PKWY</td>\n",
       "      <td>1320</td>\n",
       "      <td>CRIMINAL DAMAGE</td>\n",
       "      <td>TO VEHICLE</td>\n",
       "      <td>OTHER</td>\n",
       "      <td>False</td>\n",
       "      <td>...</td>\n",
       "      <td>14</td>\n",
       "      <td>1139530.0</td>\n",
       "      <td>1897135.0</td>\n",
       "      <td>2002</td>\n",
       "      <td>04/15/2016 08:55:02 AM</td>\n",
       "      <td>41.873845</td>\n",
       "      <td>-87.763183</td>\n",
       "      <td>(41.873845, -87.763183)</td>\n",
       "      <td>2002-12-24</td>\n",
       "      <td>09:00:00</td>\n",
       "    </tr>\n",
       "    <tr>\n",
       "      <th>2</th>\n",
       "      <td>5058884</td>\n",
       "      <td>3891396</td>\n",
       "      <td>HL266026</td>\n",
       "      <td>2005-03-31 11:46:00</td>\n",
       "      <td>050XX N KIMBALL AVE</td>\n",
       "      <td>141C</td>\n",
       "      <td>WEAPONS VIOLATION</td>\n",
       "      <td>UNLAWFUL USE OTHER DANG WEAPON</td>\n",
       "      <td>SCHOOL, PUBLIC, GROUNDS</td>\n",
       "      <td>True</td>\n",
       "      <td>...</td>\n",
       "      <td>15</td>\n",
       "      <td>1152801.0</td>\n",
       "      <td>1933422.0</td>\n",
       "      <td>2005</td>\n",
       "      <td>04/15/2016 08:55:02 AM</td>\n",
       "      <td>41.973168</td>\n",
       "      <td>-87.713495</td>\n",
       "      <td>(41.973168, -87.713495)</td>\n",
       "      <td>2005-03-31</td>\n",
       "      <td>11:46:00</td>\n",
       "    </tr>\n",
       "    <tr>\n",
       "      <th>3</th>\n",
       "      <td>3619502</td>\n",
       "      <td>4983700</td>\n",
       "      <td>HM446634</td>\n",
       "      <td>2006-06-30 16:44:00</td>\n",
       "      <td>034XX W CHICAGO AVE</td>\n",
       "      <td>2092</td>\n",
       "      <td>NARCOTICS</td>\n",
       "      <td>SOLICIT NARCOTICS ON PUBLICWAY</td>\n",
       "      <td>SIDEWALK</td>\n",
       "      <td>True</td>\n",
       "      <td>...</td>\n",
       "      <td>26</td>\n",
       "      <td>1153483.0</td>\n",
       "      <td>1905125.0</td>\n",
       "      <td>2006</td>\n",
       "      <td>04/15/2016 08:55:02 AM</td>\n",
       "      <td>41.895505</td>\n",
       "      <td>-87.711742</td>\n",
       "      <td>(41.895505, -87.711742)</td>\n",
       "      <td>2006-06-30</td>\n",
       "      <td>16:44:00</td>\n",
       "    </tr>\n",
       "    <tr>\n",
       "      <th>4</th>\n",
       "      <td>5533749</td>\n",
       "      <td>5284225</td>\n",
       "      <td>HM654977</td>\n",
       "      <td>2006-10-11 23:05:00</td>\n",
       "      <td>007XX S CICERO AVE</td>\n",
       "      <td>1506</td>\n",
       "      <td>PROSTITUTION</td>\n",
       "      <td>SOLICIT ON PUBLIC WAY</td>\n",
       "      <td>STREET</td>\n",
       "      <td>True</td>\n",
       "      <td>...</td>\n",
       "      <td>16</td>\n",
       "      <td>1144509.0</td>\n",
       "      <td>1896222.0</td>\n",
       "      <td>2006</td>\n",
       "      <td>04/15/2016 08:55:02 AM</td>\n",
       "      <td>41.871248</td>\n",
       "      <td>-87.744926</td>\n",
       "      <td>(41.871248, -87.744926)</td>\n",
       "      <td>2006-10-11</td>\n",
       "      <td>23:05:00</td>\n",
       "    </tr>\n",
       "  </tbody>\n",
       "</table>\n",
       "<p>5 rows × 25 columns</p>\n",
       "</div>"
      ],
      "text/plain": [
       "   Unnamed: 0       ID Case Number                Date                  Block  \\\n",
       "0     4506608  9878952    HX529642 2014-12-04 09:30:00        010XX E 47TH ST   \n",
       "1      561379  2514319    HH857213 2002-12-24 09:00:00  055XX W CONGRESS PKWY   \n",
       "2     5058884  3891396    HL266026 2005-03-31 11:46:00    050XX N KIMBALL AVE   \n",
       "3     3619502  4983700    HM446634 2006-06-30 16:44:00    034XX W CHICAGO AVE   \n",
       "4     5533749  5284225    HM654977 2006-10-11 23:05:00     007XX S CICERO AVE   \n",
       "\n",
       "   IUCR       Primary Type                                     Description  \\\n",
       "0  0497            BATTERY  AGGRAVATED DOMESTIC BATTERY: OTHER DANG WEAPON   \n",
       "1  1320    CRIMINAL DAMAGE                                      TO VEHICLE   \n",
       "2  141C  WEAPONS VIOLATION                  UNLAWFUL USE OTHER DANG WEAPON   \n",
       "3  2092          NARCOTICS                  SOLICIT NARCOTICS ON PUBLICWAY   \n",
       "4  1506       PROSTITUTION                           SOLICIT ON PUBLIC WAY   \n",
       "\n",
       "      Location Description  Arrest  ...  FBI Code  X Coordinate  Y Coordinate  \\\n",
       "0                APARTMENT   False  ...       04B     1183896.0     1874058.0   \n",
       "1                    OTHER   False  ...        14     1139530.0     1897135.0   \n",
       "2  SCHOOL, PUBLIC, GROUNDS    True  ...        15     1152801.0     1933422.0   \n",
       "3                 SIDEWALK    True  ...        26     1153483.0     1905125.0   \n",
       "4                   STREET    True  ...        16     1144509.0     1896222.0   \n",
       "\n",
       "   Year              Updated On   Latitude  Longitude  \\\n",
       "0  2014  02/04/2016 06:33:39 AM  41.809597 -87.601016   \n",
       "1  2002  04/15/2016 08:55:02 AM  41.873845 -87.763183   \n",
       "2  2005  04/15/2016 08:55:02 AM  41.973168 -87.713495   \n",
       "3  2006  04/15/2016 08:55:02 AM  41.895505 -87.711742   \n",
       "4  2006  04/15/2016 08:55:02 AM  41.871248 -87.744926   \n",
       "\n",
       "                  Location        date      time  \n",
       "0  (41.809597, -87.601016)  2014-12-04  09:30:00  \n",
       "1  (41.873845, -87.763183)  2002-12-24  09:00:00  \n",
       "2  (41.973168, -87.713495)  2005-03-31  11:46:00  \n",
       "3  (41.895505, -87.711742)  2006-06-30  16:44:00  \n",
       "4  (41.871248, -87.744926)  2006-10-11  23:05:00  \n",
       "\n",
       "[5 rows x 25 columns]"
      ]
     },
     "execution_count": 11,
     "metadata": {},
     "output_type": "execute_result"
    }
   ],
   "source": [
    "df.head()"
   ]
  },
  {
   "cell_type": "markdown",
   "metadata": {},
   "source": [
    "[Back to top](#Index:) \n",
    "\n",
    "<a id='part3'></a>\n",
    "\n",
    "### Part 3 -  Identify the areas in the city that experience more criminal activity\n",
    "\n",
    "To identify which portions of the city experience criminal attacks of which type, it may be useful to  cluster the data according to the `District`, `Ward` and `Primary Type`(as per IUCR [Illinois Uniform Crime Reporting] code). IUCR codes are four digit codes that law enforcement agencies use to classify criminal incidents when taking individual reports, you can find more information [here](https://data.cityofchicago.org/Public-Safety/Chicago-Police-Department-Illinois-Uniform-Crime-R/c7ck-438e/data)).\n",
    "\n",
    "Because we are only interested in the features `District`, `Ward` and `Primary Type`, it may be convenient to select only those features from the original dataframe.\n",
    "\n",
    "Complete the cell below by extracting  `District`, `Ward` and `Primary Type` from `df` and assign the new dataframe to `sub_df`."
   ]
  },
  {
   "cell_type": "code",
   "execution_count": 12,
   "metadata": {},
   "outputs": [],
   "source": [
    "sub_df = df[[\"District\", \"Ward\", \"Primary Type\"]]"
   ]
  },
  {
   "cell_type": "markdown",
   "metadata": {},
   "source": [
    "Let's visualise our new dataframe."
   ]
  },
  {
   "cell_type": "code",
   "execution_count": 13,
   "metadata": {},
   "outputs": [
    {
     "data": {
      "text/html": [
       "<div>\n",
       "<style scoped>\n",
       "    .dataframe tbody tr th:only-of-type {\n",
       "        vertical-align: middle;\n",
       "    }\n",
       "\n",
       "    .dataframe tbody tr th {\n",
       "        vertical-align: top;\n",
       "    }\n",
       "\n",
       "    .dataframe thead th {\n",
       "        text-align: right;\n",
       "    }\n",
       "</style>\n",
       "<table border=\"1\" class=\"dataframe\">\n",
       "  <thead>\n",
       "    <tr style=\"text-align: right;\">\n",
       "      <th></th>\n",
       "      <th>District</th>\n",
       "      <th>Ward</th>\n",
       "      <th>Primary Type</th>\n",
       "    </tr>\n",
       "  </thead>\n",
       "  <tbody>\n",
       "    <tr>\n",
       "      <th>0</th>\n",
       "      <td>2.0</td>\n",
       "      <td>4.0</td>\n",
       "      <td>BATTERY</td>\n",
       "    </tr>\n",
       "    <tr>\n",
       "      <th>1</th>\n",
       "      <td>15.0</td>\n",
       "      <td>29.0</td>\n",
       "      <td>CRIMINAL DAMAGE</td>\n",
       "    </tr>\n",
       "    <tr>\n",
       "      <th>2</th>\n",
       "      <td>17.0</td>\n",
       "      <td>39.0</td>\n",
       "      <td>WEAPONS VIOLATION</td>\n",
       "    </tr>\n",
       "    <tr>\n",
       "      <th>3</th>\n",
       "      <td>11.0</td>\n",
       "      <td>27.0</td>\n",
       "      <td>NARCOTICS</td>\n",
       "    </tr>\n",
       "    <tr>\n",
       "      <th>4</th>\n",
       "      <td>11.0</td>\n",
       "      <td>24.0</td>\n",
       "      <td>PROSTITUTION</td>\n",
       "    </tr>\n",
       "    <tr>\n",
       "      <th>5</th>\n",
       "      <td>19.0</td>\n",
       "      <td>47.0</td>\n",
       "      <td>NARCOTICS</td>\n",
       "    </tr>\n",
       "    <tr>\n",
       "      <th>6</th>\n",
       "      <td>14.0</td>\n",
       "      <td>1.0</td>\n",
       "      <td>BURGLARY</td>\n",
       "    </tr>\n",
       "    <tr>\n",
       "      <th>7</th>\n",
       "      <td>12.0</td>\n",
       "      <td>25.0</td>\n",
       "      <td>THEFT</td>\n",
       "    </tr>\n",
       "    <tr>\n",
       "      <th>8</th>\n",
       "      <td>2.0</td>\n",
       "      <td>3.0</td>\n",
       "      <td>OTHER OFFENSE</td>\n",
       "    </tr>\n",
       "    <tr>\n",
       "      <th>9</th>\n",
       "      <td>1.0</td>\n",
       "      <td>42.0</td>\n",
       "      <td>THEFT</td>\n",
       "    </tr>\n",
       "  </tbody>\n",
       "</table>\n",
       "</div>"
      ],
      "text/plain": [
       "   District  Ward       Primary Type\n",
       "0       2.0   4.0            BATTERY\n",
       "1      15.0  29.0    CRIMINAL DAMAGE\n",
       "2      17.0  39.0  WEAPONS VIOLATION\n",
       "3      11.0  27.0          NARCOTICS\n",
       "4      11.0  24.0       PROSTITUTION\n",
       "5      19.0  47.0          NARCOTICS\n",
       "6      14.0   1.0           BURGLARY\n",
       "7      12.0  25.0              THEFT\n",
       "8       2.0   3.0      OTHER OFFENSE\n",
       "9       1.0  42.0              THEFT"
      ]
     },
     "execution_count": 13,
     "metadata": {},
     "output_type": "execute_result"
    }
   ],
   "source": [
    "sub_df.head(10)"
   ]
  },
  {
   "cell_type": "markdown",
   "metadata": {},
   "source": [
    "We can see that we have some missing values (NaNs). The general technique to fill missing values in a dataframe is call **imputation**.\n",
    "\n",
    "A very popular way to impute values is by filling missing values with the most frequent value from one column. This can be done by using the function `.apply()` on our dataframe together with the appropriate lambda function.\n",
    "\n",
    "Complete the lambda function that needs to be passed to `.apply()` in the code cell below.\n",
    "\n",
    "**HINT:** Use a combination of the functions `fillna()`, `value_counts()` and `index()`."
   ]
  },
  {
   "cell_type": "code",
   "execution_count": 14,
   "metadata": {},
   "outputs": [],
   "source": [
    "sub_df = sub_df.apply(lambda x: x.fillna(x.value_counts().index[0]), axis=0)"
   ]
  },
  {
   "cell_type": "code",
   "execution_count": 15,
   "metadata": {},
   "outputs": [
    {
     "data": {
      "text/html": [
       "<div>\n",
       "<style scoped>\n",
       "    .dataframe tbody tr th:only-of-type {\n",
       "        vertical-align: middle;\n",
       "    }\n",
       "\n",
       "    .dataframe tbody tr th {\n",
       "        vertical-align: top;\n",
       "    }\n",
       "\n",
       "    .dataframe thead th {\n",
       "        text-align: right;\n",
       "    }\n",
       "</style>\n",
       "<table border=\"1\" class=\"dataframe\">\n",
       "  <thead>\n",
       "    <tr style=\"text-align: right;\">\n",
       "      <th></th>\n",
       "      <th>District</th>\n",
       "      <th>Ward</th>\n",
       "      <th>Primary Type</th>\n",
       "    </tr>\n",
       "  </thead>\n",
       "  <tbody>\n",
       "    <tr>\n",
       "      <th>0</th>\n",
       "      <td>2.0</td>\n",
       "      <td>4.0</td>\n",
       "      <td>BATTERY</td>\n",
       "    </tr>\n",
       "    <tr>\n",
       "      <th>1</th>\n",
       "      <td>15.0</td>\n",
       "      <td>29.0</td>\n",
       "      <td>CRIMINAL DAMAGE</td>\n",
       "    </tr>\n",
       "    <tr>\n",
       "      <th>2</th>\n",
       "      <td>17.0</td>\n",
       "      <td>39.0</td>\n",
       "      <td>WEAPONS VIOLATION</td>\n",
       "    </tr>\n",
       "    <tr>\n",
       "      <th>3</th>\n",
       "      <td>11.0</td>\n",
       "      <td>27.0</td>\n",
       "      <td>NARCOTICS</td>\n",
       "    </tr>\n",
       "    <tr>\n",
       "      <th>4</th>\n",
       "      <td>11.0</td>\n",
       "      <td>24.0</td>\n",
       "      <td>PROSTITUTION</td>\n",
       "    </tr>\n",
       "  </tbody>\n",
       "</table>\n",
       "</div>"
      ],
      "text/plain": [
       "   District  Ward       Primary Type\n",
       "0       2.0   4.0            BATTERY\n",
       "1      15.0  29.0    CRIMINAL DAMAGE\n",
       "2      17.0  39.0  WEAPONS VIOLATION\n",
       "3      11.0  27.0          NARCOTICS\n",
       "4      11.0  24.0       PROSTITUTION"
      ]
     },
     "execution_count": 15,
     "metadata": {},
     "output_type": "execute_result"
    }
   ],
   "source": [
    "sub_df.head()"
   ]
  },
  {
   "cell_type": "markdown",
   "metadata": {},
   "source": [
    "Finally, before moving on to clustering, we will extract the numeric values in the column `IUCR` and visualise our new dataframe.\n",
    "\n",
    "Run the code cell below."
   ]
  },
  {
   "cell_type": "code",
   "execution_count": 16,
   "metadata": {},
   "outputs": [
    {
     "data": {
      "text/html": [
       "<div>\n",
       "<style scoped>\n",
       "    .dataframe tbody tr th:only-of-type {\n",
       "        vertical-align: middle;\n",
       "    }\n",
       "\n",
       "    .dataframe tbody tr th {\n",
       "        vertical-align: top;\n",
       "    }\n",
       "\n",
       "    .dataframe thead th {\n",
       "        text-align: right;\n",
       "    }\n",
       "</style>\n",
       "<table border=\"1\" class=\"dataframe\">\n",
       "  <thead>\n",
       "    <tr style=\"text-align: right;\">\n",
       "      <th></th>\n",
       "      <th>District</th>\n",
       "      <th>Ward</th>\n",
       "      <th>Primary Type</th>\n",
       "      <th>IUCR</th>\n",
       "    </tr>\n",
       "  </thead>\n",
       "  <tbody>\n",
       "    <tr>\n",
       "      <th>0</th>\n",
       "      <td>2.0</td>\n",
       "      <td>4.0</td>\n",
       "      <td>BATTERY</td>\n",
       "      <td>497</td>\n",
       "    </tr>\n",
       "    <tr>\n",
       "      <th>1</th>\n",
       "      <td>15.0</td>\n",
       "      <td>29.0</td>\n",
       "      <td>CRIMINAL DAMAGE</td>\n",
       "      <td>1320</td>\n",
       "    </tr>\n",
       "    <tr>\n",
       "      <th>2</th>\n",
       "      <td>17.0</td>\n",
       "      <td>39.0</td>\n",
       "      <td>WEAPONS VIOLATION</td>\n",
       "      <td>141</td>\n",
       "    </tr>\n",
       "    <tr>\n",
       "      <th>3</th>\n",
       "      <td>11.0</td>\n",
       "      <td>27.0</td>\n",
       "      <td>NARCOTICS</td>\n",
       "      <td>2092</td>\n",
       "    </tr>\n",
       "    <tr>\n",
       "      <th>4</th>\n",
       "      <td>11.0</td>\n",
       "      <td>24.0</td>\n",
       "      <td>PROSTITUTION</td>\n",
       "      <td>1506</td>\n",
       "    </tr>\n",
       "  </tbody>\n",
       "</table>\n",
       "</div>"
      ],
      "text/plain": [
       "   District  Ward       Primary Type  IUCR\n",
       "0       2.0   4.0            BATTERY   497\n",
       "1      15.0  29.0    CRIMINAL DAMAGE  1320\n",
       "2      17.0  39.0  WEAPONS VIOLATION   141\n",
       "3      11.0  27.0          NARCOTICS  2092\n",
       "4      11.0  24.0       PROSTITUTION  1506"
      ]
     },
     "execution_count": 16,
     "metadata": {},
     "output_type": "execute_result"
    }
   ],
   "source": [
    "sub_df = sub_df.assign(IUCR = df.IUCR.str.extract('(\\d+)', expand=True).astype(int))\n",
    "sub_df.head()"
   ]
  },
  {
   "cell_type": "code",
   "execution_count": 17,
   "metadata": {},
   "outputs": [
    {
     "data": {
      "text/plain": [
       "District        0\n",
       "Ward            0\n",
       "Primary Type    0\n",
       "IUCR            0\n",
       "dtype: int64"
      ]
     },
     "execution_count": 17,
     "metadata": {},
     "output_type": "execute_result"
    }
   ],
   "source": [
    "sub_df.isnull().sum()"
   ]
  },
  {
   "cell_type": "markdown",
   "metadata": {},
   "source": [
    "[Back to top](#Index:) \n",
    "\n",
    "<a id='part4'></a>\n",
    "\n",
    "### Part 4 - Clustering without normalisation\n",
    "\n",
    "Before getting into clustering, we should point out a few things:\n",
    "\n",
    "To find the **optimal number of clusters**, we will go with the elbow rule, which states that on the curve of score vs the number of clusters, the optimal point is where the first bend (or *elbow*) occurs, because after that the the score eventually decreases to zero and each point starts behaving as its own cluster. \n",
    "\n",
    "\n",
    "However, with K-means, we will have to normalise the data first as, without it, K-means will simply cluster the data based on the Euclidean distances of the IUCR code, as it has a larger range of values than the District or Ward codes. We will begin by finding the optimal number of clusters *without normalisation*.\n",
    "\n",
    "\n",
    "Complete the code cell below by importing `Kmeans` from `sklearn.cluster`."
   ]
  },
  {
   "cell_type": "code",
   "execution_count": 18,
   "metadata": {},
   "outputs": [],
   "source": [
    "from sklearn.cluster import KMeans"
   ]
  },
  {
   "cell_type": "markdown",
   "metadata": {},
   "source": [
    "Next, to reproduce the \"elbow chart\", we need to compute the score for each number of clusters.\n",
    "\n",
    "First, we need a list of models defined for a varying number of clusters. Then, we can fit each model on the data to get a score for the model and determine the model with the best number of clusters.\n",
    "\n",
    "Complete the for loop in the code cell below to compute the K-means for the given range of values. This for loop returns a list of `Kmeans` model objects, each of which has a different number of clusters ranging from 1 to 10."
   ]
  },
  {
   "cell_type": "code",
   "execution_count": 19,
   "metadata": {},
   "outputs": [],
   "source": [
    "sub_df = sub_df.drop(\"Primary Type\", axis=1)"
   ]
  },
  {
   "cell_type": "code",
   "execution_count": 20,
   "metadata": {},
   "outputs": [
    {
     "data": {
      "text/html": [
       "<div>\n",
       "<style scoped>\n",
       "    .dataframe tbody tr th:only-of-type {\n",
       "        vertical-align: middle;\n",
       "    }\n",
       "\n",
       "    .dataframe tbody tr th {\n",
       "        vertical-align: top;\n",
       "    }\n",
       "\n",
       "    .dataframe thead th {\n",
       "        text-align: right;\n",
       "    }\n",
       "</style>\n",
       "<table border=\"1\" class=\"dataframe\">\n",
       "  <thead>\n",
       "    <tr style=\"text-align: right;\">\n",
       "      <th></th>\n",
       "      <th>District</th>\n",
       "      <th>Ward</th>\n",
       "      <th>IUCR</th>\n",
       "    </tr>\n",
       "  </thead>\n",
       "  <tbody>\n",
       "    <tr>\n",
       "      <th>0</th>\n",
       "      <td>2.0</td>\n",
       "      <td>4.0</td>\n",
       "      <td>497</td>\n",
       "    </tr>\n",
       "    <tr>\n",
       "      <th>1</th>\n",
       "      <td>15.0</td>\n",
       "      <td>29.0</td>\n",
       "      <td>1320</td>\n",
       "    </tr>\n",
       "    <tr>\n",
       "      <th>2</th>\n",
       "      <td>17.0</td>\n",
       "      <td>39.0</td>\n",
       "      <td>141</td>\n",
       "    </tr>\n",
       "    <tr>\n",
       "      <th>3</th>\n",
       "      <td>11.0</td>\n",
       "      <td>27.0</td>\n",
       "      <td>2092</td>\n",
       "    </tr>\n",
       "    <tr>\n",
       "      <th>4</th>\n",
       "      <td>11.0</td>\n",
       "      <td>24.0</td>\n",
       "      <td>1506</td>\n",
       "    </tr>\n",
       "    <tr>\n",
       "      <th>...</th>\n",
       "      <td>...</td>\n",
       "      <td>...</td>\n",
       "      <td>...</td>\n",
       "    </tr>\n",
       "    <tr>\n",
       "      <th>62828</th>\n",
       "      <td>18.0</td>\n",
       "      <td>43.0</td>\n",
       "      <td>143</td>\n",
       "    </tr>\n",
       "    <tr>\n",
       "      <th>62829</th>\n",
       "      <td>7.0</td>\n",
       "      <td>28.0</td>\n",
       "      <td>1310</td>\n",
       "    </tr>\n",
       "    <tr>\n",
       "      <th>62830</th>\n",
       "      <td>8.0</td>\n",
       "      <td>13.0</td>\n",
       "      <td>860</td>\n",
       "    </tr>\n",
       "    <tr>\n",
       "      <th>62831</th>\n",
       "      <td>17.0</td>\n",
       "      <td>35.0</td>\n",
       "      <td>910</td>\n",
       "    </tr>\n",
       "    <tr>\n",
       "      <th>62832</th>\n",
       "      <td>22.0</td>\n",
       "      <td>34.0</td>\n",
       "      <td>860</td>\n",
       "    </tr>\n",
       "  </tbody>\n",
       "</table>\n",
       "<p>62833 rows × 3 columns</p>\n",
       "</div>"
      ],
      "text/plain": [
       "       District  Ward  IUCR\n",
       "0           2.0   4.0   497\n",
       "1          15.0  29.0  1320\n",
       "2          17.0  39.0   141\n",
       "3          11.0  27.0  2092\n",
       "4          11.0  24.0  1506\n",
       "...         ...   ...   ...\n",
       "62828      18.0  43.0   143\n",
       "62829       7.0  28.0  1310\n",
       "62830       8.0  13.0   860\n",
       "62831      17.0  35.0   910\n",
       "62832      22.0  34.0   860\n",
       "\n",
       "[62833 rows x 3 columns]"
      ]
     },
     "execution_count": 20,
     "metadata": {},
     "output_type": "execute_result"
    }
   ],
   "source": [
    "sub_df"
   ]
  },
  {
   "cell_type": "code",
   "execution_count": 21,
   "metadata": {},
   "outputs": [],
   "source": [
    "N = range(1, 20)\n",
    "kmeans = []\n",
    "for i in N:\n",
    "    #compute the values for each number of clusters\n",
    "    kn = KMeans(n_clusters=i) \n",
    "    kmeans.append(kn)"
   ]
  },
  {
   "cell_type": "markdown",
   "metadata": {},
   "source": [
    "Next, let's compute the score. Run the code cell below.\n"
   ]
  },
  {
   "cell_type": "code",
   "execution_count": 22,
   "metadata": {},
   "outputs": [],
   "source": [
    "score = []\n",
    "for i in range(len(kmeans)):\n",
    "    score.append(kmeans[i].fit(sub_df).score(sub_df))"
   ]
  },
  {
   "cell_type": "markdown",
   "metadata": {},
   "source": [
    "Finally, let's plot our elbow curve. Run the code below to plot the elbow curve."
   ]
  },
  {
   "cell_type": "code",
   "execution_count": 23,
   "metadata": {},
   "outputs": [
    {
     "data": {
      "image/png": "[encoded data removed]",
      "text/plain": [
       "<Figure size 432x288 with 1 Axes>"
      ]
     },
     "metadata": {
      "needs_background": "light"
     },
     "output_type": "display_data"
    }
   ],
   "source": [
    "pl.plot(N,score)\n",
    "pl.xlabel('Number of Clusters')\n",
    "pl.ylabel('Score')\n",
    "pl.title('Elbow Curve')\n",
    "pl.show() "
   ]
  },
  {
   "cell_type": "markdown",
   "metadata": {},
   "source": [
    "What does the optimal number of clusters seem to be?\n",
    "\n",
    "**DOUBLE CLICK ON THIS CELL TO TYPE YOUR ANSWER**\n",
    "Number of clusters = 4     should be the best decision.\n",
    "\n",
    "'Elbow point' is a point where the slope quite suddenly changes from rather\n",
    "steep to very shallow. \n",
    "\n",
    "Further clusters don't help to reduce the distances."
   ]
  },
  {
   "cell_type": "markdown",
   "metadata": {},
   "source": [
    "Without normalising the data, the best number of clusters is around 4, so let's try that out!\n",
    "\n",
    "Complete the code cell below by following these steps:\n",
    "- Use `KMeans()` to compute the optimal K-mean `km` by choosing the optimal number of clusters.\n",
    "- Use `.fit()` to compute K-means clustering.\n",
    "- Use the `km` attribute `predict()` on `sub_df` to predict the closest cluster each sample belongs to.\n",
    "\n",
    "You can find the documentation about these functions [here](https://scikit-learn.org/stable/modules/generated/sklearn.cluster.KMeans.html#sklearn.cluster.KMeans.predict)."
   ]
  },
  {
   "cell_type": "code",
   "execution_count": 24,
   "metadata": {},
   "outputs": [],
   "source": [
    "km = KMeans(n_clusters=4) \n",
    "#Use fit on dataframe\n",
    "km.fit(sub_df)\n",
    "#compute y\n",
    "y = km.predict(sub_df)\n"
   ]
  },
  {
   "cell_type": "markdown",
   "metadata": {},
   "source": [
    "Great! Run the code cell below to define the clusters for each point."
   ]
  },
  {
   "cell_type": "code",
   "execution_count": 25,
   "metadata": {},
   "outputs": [
    {
     "data": {
      "text/html": [
       "<div>\n",
       "<style scoped>\n",
       "    .dataframe tbody tr th:only-of-type {\n",
       "        vertical-align: middle;\n",
       "    }\n",
       "\n",
       "    .dataframe tbody tr th {\n",
       "        vertical-align: top;\n",
       "    }\n",
       "\n",
       "    .dataframe thead th {\n",
       "        text-align: right;\n",
       "    }\n",
       "</style>\n",
       "<table border=\"1\" class=\"dataframe\">\n",
       "  <thead>\n",
       "    <tr style=\"text-align: right;\">\n",
       "      <th></th>\n",
       "      <th>District</th>\n",
       "      <th>Ward</th>\n",
       "      <th>IUCR</th>\n",
       "      <th>Cluster</th>\n",
       "    </tr>\n",
       "  </thead>\n",
       "  <tbody>\n",
       "    <tr>\n",
       "      <th>0</th>\n",
       "      <td>2.0</td>\n",
       "      <td>4.0</td>\n",
       "      <td>497</td>\n",
       "      <td>3</td>\n",
       "    </tr>\n",
       "    <tr>\n",
       "      <th>1</th>\n",
       "      <td>15.0</td>\n",
       "      <td>29.0</td>\n",
       "      <td>1320</td>\n",
       "      <td>1</td>\n",
       "    </tr>\n",
       "    <tr>\n",
       "      <th>2</th>\n",
       "      <td>17.0</td>\n",
       "      <td>39.0</td>\n",
       "      <td>141</td>\n",
       "      <td>3</td>\n",
       "    </tr>\n",
       "    <tr>\n",
       "      <th>3</th>\n",
       "      <td>11.0</td>\n",
       "      <td>27.0</td>\n",
       "      <td>2092</td>\n",
       "      <td>0</td>\n",
       "    </tr>\n",
       "    <tr>\n",
       "      <th>4</th>\n",
       "      <td>11.0</td>\n",
       "      <td>24.0</td>\n",
       "      <td>1506</td>\n",
       "      <td>1</td>\n",
       "    </tr>\n",
       "    <tr>\n",
       "      <th>5</th>\n",
       "      <td>19.0</td>\n",
       "      <td>47.0</td>\n",
       "      <td>1811</td>\n",
       "      <td>0</td>\n",
       "    </tr>\n",
       "    <tr>\n",
       "      <th>6</th>\n",
       "      <td>14.0</td>\n",
       "      <td>1.0</td>\n",
       "      <td>620</td>\n",
       "      <td>3</td>\n",
       "    </tr>\n",
       "  </tbody>\n",
       "</table>\n",
       "</div>"
      ],
      "text/plain": [
       "   District  Ward  IUCR  Cluster\n",
       "0       2.0   4.0   497        3\n",
       "1      15.0  29.0  1320        1\n",
       "2      17.0  39.0   141        3\n",
       "3      11.0  27.0  2092        0\n",
       "4      11.0  24.0  1506        1\n",
       "5      19.0  47.0  1811        0\n",
       "6      14.0   1.0   620        3"
      ]
     },
     "execution_count": 25,
     "metadata": {},
     "output_type": "execute_result"
    }
   ],
   "source": [
    "sub_df['Cluster'] = y\n",
    "sub_df.head(7)"
   ]
  },
  {
   "cell_type": "markdown",
   "metadata": {},
   "source": [
    "Run the code cell below to visualise the clusters obtained without normalisation."
   ]
  },
  {
   "cell_type": "code",
   "execution_count": 26,
   "metadata": {},
   "outputs": [
    {
     "data": {
      "image/png": "[encoded data removed]",
      "text/plain": [
       "<Figure size 864x720 with 1 Axes>"
      ]
     },
     "metadata": {
      "needs_background": "light"
     },
     "output_type": "display_data"
    }
   ],
   "source": [
    "fig = plt.figure(figsize=(12,10))\n",
    "ax = fig.add_subplot(111, projection='3d')\n",
    "x = np.array(sub_df['Ward'])\n",
    "y = np.array(sub_df['IUCR'])\n",
    "z = np.array(sub_df['District'])\n",
    "\n",
    "ax.set_xlabel('Ward')\n",
    "ax.set_ylabel('IUCR')\n",
    "ax.set_zlabel('District')\n",
    "\n",
    "ax.scatter(x,y,z, marker=\"o\", c = sub_df[\"Cluster\"], s=60, cmap=\"jet\")\n",
    "ax.view_init(azim=0)\n",
    "#print(ax.azim)\n",
    "plt.show()"
   ]
  },
  {
   "cell_type": "markdown",
   "metadata": {},
   "source": [
    "[Back to top](#Index:) \n",
    "\n",
    "<a id='part5'></a>\n",
    "\n",
    "### Part 5 - Clustering with normalisation\n",
    "\n",
    "As expected, K-means without normalisation simply clusters the data based on the Euclidean distances of the IUCR codes. We can fix this by normalising the data.\n",
    "\n",
    "In the code cell below, we have normalised the column `IUCR` using the formula:\n",
    "\n",
    "$$y_\\text{norm} = \\frac{y - \\min(y)}{\\max(y) - \\min(y)}$$"
   ]
  },
  {
   "cell_type": "code",
   "execution_count": 27,
   "metadata": {},
   "outputs": [],
   "source": [
    "sub_df['IUCR'] = (sub_df['IUCR'] - sub_df['IUCR'].min())/(sub_df['IUCR'].max()-sub_df['IUCR'].min())"
   ]
  },
  {
   "cell_type": "markdown",
   "metadata": {},
   "source": [
    "Complete the code cell below to normalise the columns `Ward` and `District` following the example given above."
   ]
  },
  {
   "cell_type": "code",
   "execution_count": 28,
   "metadata": {},
   "outputs": [],
   "source": [
    "sub_df['Ward'] = (sub_df['Ward'] - sub_df['Ward'].min())/(sub_df['Ward'].max()-sub_df['Ward'].min())\n",
    "sub_df['District'] = (sub_df['District'] - sub_df['District'].min())/(sub_df['District'].max()-sub_df['District'].min())"
   ]
  },
  {
   "cell_type": "markdown",
   "metadata": {},
   "source": [
    "Following what we did in Part 4, compute the updated K-means and scores for the normalised data.\n",
    "\n",
    "Complete the code cell below accordingly."
   ]
  },
  {
   "cell_type": "code",
   "execution_count": 29,
   "metadata": {},
   "outputs": [],
   "source": [
    "N = range(1, 20)\n",
    "kmeans = []\n",
    "for i in N:\n",
    "    #compute the values for each number of clusters\n",
    "    kn = KMeans(n_clusters=i) \n",
    "    kmeans.append(kn)\n",
    "\n",
    "\n",
    "score_norm = []\n",
    "for i in range(len(kmeans)):\n",
    "    #compute updated score\n",
    "    score_norm.append(kmeans[i].fit(sub_df).score(sub_df))\n"
   ]
  },
  {
   "cell_type": "markdown",
   "metadata": {},
   "source": [
    "Finally, let's plot our new elbow curve. Run the code below to plot the elbow curve."
   ]
  },
  {
   "cell_type": "code",
   "execution_count": 30,
   "metadata": {},
   "outputs": [
    {
     "data": {
      "image/png": "[encoded data removed]",
      "text/plain": [
       "<Figure size 432x288 with 1 Axes>"
      ]
     },
     "metadata": {
      "needs_background": "light"
     },
     "output_type": "display_data"
    }
   ],
   "source": [
    "pl.plot(N,score_norm)\n",
    "pl.xlabel('Number of Clusters - Normalized')\n",
    "pl.ylabel('Score')\n",
    "pl.title('Elbow Curve')\n",
    "pl.show() "
   ]
  },
  {
   "cell_type": "markdown",
   "metadata": {},
   "source": [
    "What does the optimal number of clusters seem to be now?\n",
    "\n",
    "**DOUBLE CLICK ON THIS CELL TO TYPE YOUR ANSWER**\n",
    "Number of Clusters = 2"
   ]
  },
  {
   "cell_type": "markdown",
   "metadata": {},
   "source": [
    "With normalised data, the optimal number of clusters seems to be two now!\n",
    "\n",
    "Following what we did in Part 4, run `KMeans` with the updated number of clusters. Don't forget to include all the steps!"
   ]
  },
  {
   "cell_type": "code",
   "execution_count": 31,
   "metadata": {},
   "outputs": [],
   "source": [
    "km = KMeans(n_clusters=2) \n",
    "km.fit(sub_df)\n",
    "y = km.predict(sub_df)\n"
   ]
  },
  {
   "cell_type": "code",
   "execution_count": 32,
   "metadata": {},
   "outputs": [
    {
     "data": {
      "text/html": [
       "<div>\n",
       "<style scoped>\n",
       "    .dataframe tbody tr th:only-of-type {\n",
       "        vertical-align: middle;\n",
       "    }\n",
       "\n",
       "    .dataframe tbody tr th {\n",
       "        vertical-align: top;\n",
       "    }\n",
       "\n",
       "    .dataframe thead th {\n",
       "        text-align: right;\n",
       "    }\n",
       "</style>\n",
       "<table border=\"1\" class=\"dataframe\">\n",
       "  <thead>\n",
       "    <tr style=\"text-align: right;\">\n",
       "      <th></th>\n",
       "      <th>District</th>\n",
       "      <th>Ward</th>\n",
       "      <th>IUCR</th>\n",
       "      <th>Cluster</th>\n",
       "    </tr>\n",
       "  </thead>\n",
       "  <tbody>\n",
       "    <tr>\n",
       "      <th>0</th>\n",
       "      <td>0.041667</td>\n",
       "      <td>0.061224</td>\n",
       "      <td>0.047214</td>\n",
       "      <td>1</td>\n",
       "    </tr>\n",
       "    <tr>\n",
       "      <th>1</th>\n",
       "      <td>0.583333</td>\n",
       "      <td>0.571429</td>\n",
       "      <td>0.130598</td>\n",
       "      <td>0</td>\n",
       "    </tr>\n",
       "    <tr>\n",
       "      <th>2</th>\n",
       "      <td>0.666667</td>\n",
       "      <td>0.775510</td>\n",
       "      <td>0.011145</td>\n",
       "      <td>1</td>\n",
       "    </tr>\n",
       "    <tr>\n",
       "      <th>3</th>\n",
       "      <td>0.416667</td>\n",
       "      <td>0.530612</td>\n",
       "      <td>0.208815</td>\n",
       "      <td>0</td>\n",
       "    </tr>\n",
       "    <tr>\n",
       "      <th>4</th>\n",
       "      <td>0.416667</td>\n",
       "      <td>0.469388</td>\n",
       "      <td>0.149443</td>\n",
       "      <td>0</td>\n",
       "    </tr>\n",
       "    <tr>\n",
       "      <th>5</th>\n",
       "      <td>0.750000</td>\n",
       "      <td>0.938776</td>\n",
       "      <td>0.180344</td>\n",
       "      <td>0</td>\n",
       "    </tr>\n",
       "    <tr>\n",
       "      <th>6</th>\n",
       "      <td>0.541667</td>\n",
       "      <td>0.000000</td>\n",
       "      <td>0.059676</td>\n",
       "      <td>1</td>\n",
       "    </tr>\n",
       "  </tbody>\n",
       "</table>\n",
       "</div>"
      ],
      "text/plain": [
       "   District      Ward      IUCR  Cluster\n",
       "0  0.041667  0.061224  0.047214        1\n",
       "1  0.583333  0.571429  0.130598        0\n",
       "2  0.666667  0.775510  0.011145        1\n",
       "3  0.416667  0.530612  0.208815        0\n",
       "4  0.416667  0.469388  0.149443        0\n",
       "5  0.750000  0.938776  0.180344        0\n",
       "6  0.541667  0.000000  0.059676        1"
      ]
     },
     "execution_count": 32,
     "metadata": {},
     "output_type": "execute_result"
    }
   ],
   "source": [
    "sub_df['Cluster'] = y\n",
    "sub_df.head(7)"
   ]
  },
  {
   "cell_type": "code",
   "execution_count": 33,
   "metadata": {},
   "outputs": [
    {
     "data": {
      "image/png": "[encoded data removed]",
      "text/plain": [
       "<Figure size 864x720 with 1 Axes>"
      ]
     },
     "metadata": {
      "needs_background": "light"
     },
     "output_type": "display_data"
    }
   ],
   "source": [
    "fig = plt.figure(figsize=(12,10))\n",
    "ax = fig.add_subplot(111, projection='3d')\n",
    "x = np.array(sub_df['Ward'])\n",
    "y = np.array(sub_df['IUCR'])\n",
    "z = np.array(sub_df['District'])\n",
    "\n",
    "ax.set_xlabel('Ward')\n",
    "ax.set_ylabel('IUCR')\n",
    "ax.set_zlabel('District')\n",
    "\n",
    "ax.scatter(x,y,z, marker=\"o\", c = sub_df[\"Cluster\"], s=60, cmap=\"jet\")\n",
    "ax.view_init(azim=0)\n",
    "#print(ax.azim)\n",
    "plt.show()"
   ]
  },
  {
   "cell_type": "markdown",
   "metadata": {},
   "source": [
    "Here's what the updated clusters look like.\n",
    "\n",
    "![](cluster_norm.png)\n"
   ]
  },
  {
   "cell_type": "markdown",
   "metadata": {},
   "source": [
    "What differences can you infer from this updated graph? Is it a good or  bad thing?\n",
    "\n",
    "**DOUBLE CLICK ON THIS CELL TO TYPE YOUR ANSWER**\n",
    "\n",
    "The number of clusters has decreased, which is good, since it simplifies the model. But the downside here is that the blue cluster is partially located between the parts of the red cluster."
   ]
  },
  {
   "cell_type": "markdown",
   "metadata": {},
   "source": [
    "[Back to top](#Index:) \n",
    "\n",
    "<a id='part6'></a>\n",
    "\n",
    "### Part 6 - Hierarchical clustering\n",
    "    \n",
    "During this week, you have also learnt about another type of clustering technique called **hierarchical clustering**.\n",
    "\n",
    "\n",
    "Hierarchical clustering, also known as hierarchical cluster analysis, is an algorithm that groups similar objects into groups called clusters. The endpoint is a set of clusters, where each cluster is distinct from each other, and the objects within each cluster are broadly similar to each other.\n",
    "\n",
    "#### How hierarchical clustering works\n",
    "Hierarchical clustering starts by treating each observation as a separate cluster. Then, it repeatedly executes the following two steps: (1) identify the two clusters that are closest together and (2) merge the two most similar clusters. This iterative process continues until all the clusters are merged together. \n",
    "\n",
    "\n",
    "![](cluster_1.png)"
   ]
  },
  {
   "cell_type": "markdown",
   "metadata": {},
   "source": [
    "The main output of hierarchical clustering is a **dendrogram**, which shows the hierarchical relationship between the clusters:\n",
    "\n",
    "\n",
    "![](cluster_2.png)\n",
    "\n",
    "\n",
    "#### Measures of distance (similarity)\n",
    "In the example above, the distance between two clusters has been computed based on the length of the straight line drawn from one cluster to the other. This is commonly referred to as the Euclidean distance. Many other distance metrics have been developed.\n",
    "\n",
    "The choice of distance metric should be made based on theoretical concerns from the domain of study. That is, a distance metric needs to define similarity in a way that is sensible for the field of study. For example, if clustering crime sites in a city (like in the worked example above), the city block distance may be appropriate. Or, better yet, the time taken to travel between each location. Where there is no theoretical justification for an alternative, the Euclidean should generally be preferred, as it is usually the appropriate measure of distance in the physical world.\n",
    "\n",
    "\n",
    "#### Linkage criteria\n",
    "After selecting a distance metric, it is necessary to determine from where distance is computed. For example, it can be computed between the two most similar parts of a cluster (single-linkage), the two least similar bits of a cluster (complete-linkage), the centre of the clusters (mean or average-linkage), or some other criterion. Many linkage criteria have been developed.\n",
    "\n",
    "As with distance metrics, the choice of linkage criteria should be made based on theoretical considerations from the domain of application. A key theoretical issue is what causes variation. For example, in archaeology, we expect variation to occur through innovation and natural resources, so working out if two groups of artifacts are similar may make sense based on identifying the most similar members of the cluster.\n",
    "\n",
    "\n",
    "### Steps to perform hierarchical clustering\n",
    "\n",
    "- Step 1: First, we assign all the points to an individual cluster.\n",
    "- Step 2: Next, we will look at the smallest distance in the proximity matrix and merge the points with the smallest distance.\n",
    "- Step 3: We will repeat Step 2 until only a single cluster is left.\n",
    "- Step 4: How should we choose the number of clusters in hierarchical clustering?\n",
    "\n",
    "To get the number of clusters for hierarchical clustering, we make use of an awesome concept called a dendrogram.\n",
    "Whenever two clusters are merged, we will join them in this dendrogram and the height of the join will be the distance between these points. Therefore, the longer the distance of the vertical lines in the dendrogram, the longer the distance between those clusters.\n",
    "\n",
    "Finally, we can set a threshold distance and draw a horizontal line across the dendrogram. The number of clusters will be the number of vertical lines which are being intersected by the line drawn using the threshold.\n",
    "\n",
    "\n",
    "![](cluster_3.png)"
   ]
  },
  {
   "cell_type": "markdown",
   "metadata": {},
   "source": [
    "[Back to top](#Index:) \n",
    "\n",
    "<a id='part7'></a>\n",
    "\n",
    "### Part 7 - A simple example of hierarchical clustering\n",
    "\n",
    "After seeing what the basic steps of hierarchical clustering are, it's now time to walk through a simple example to test our understanding.\n",
    "\n",
    "We will be working on a wholesale customer segmentation problem. You can download the data set using [this](https://archive.ics.uci.edu/ml/machine-learning-databases/00292/Wholesale%20customers%20data.csv) link. The data is hosted on the UCI Machine Learning repository. \n",
    "\n",
    "The aim of this problem is to segment the clients of a wholesale distributor based on their annual spending on diverse product categories such as milk, grocery, region, etc.\n",
    "\n",
    "As usual, we begin by importing the data set, Complete the code cell below by adding the name of the data set, \"Wholesale customers data.csv\" a `str` to `.read_csv()`. Assign the dataframe to the variable `data`."
   ]
  },
  {
   "cell_type": "code",
   "execution_count": 34,
   "metadata": {},
   "outputs": [],
   "source": [
    "data = pd.read_csv('Wholesale customers data.csv')\n"
   ]
  },
  {
   "cell_type": "markdown",
   "metadata": {},
   "source": [
    "Run the code cell below to visualise the first five rows of our dataframe."
   ]
  },
  {
   "cell_type": "code",
   "execution_count": 35,
   "metadata": {},
   "outputs": [
    {
     "data": {
      "text/html": [
       "<div>\n",
       "<style scoped>\n",
       "    .dataframe tbody tr th:only-of-type {\n",
       "        vertical-align: middle;\n",
       "    }\n",
       "\n",
       "    .dataframe tbody tr th {\n",
       "        vertical-align: top;\n",
       "    }\n",
       "\n",
       "    .dataframe thead th {\n",
       "        text-align: right;\n",
       "    }\n",
       "</style>\n",
       "<table border=\"1\" class=\"dataframe\">\n",
       "  <thead>\n",
       "    <tr style=\"text-align: right;\">\n",
       "      <th></th>\n",
       "      <th>Channel</th>\n",
       "      <th>Region</th>\n",
       "      <th>Fresh</th>\n",
       "      <th>Milk</th>\n",
       "      <th>Grocery</th>\n",
       "      <th>Frozen</th>\n",
       "      <th>Detergents_Paper</th>\n",
       "      <th>Delicassen</th>\n",
       "    </tr>\n",
       "  </thead>\n",
       "  <tbody>\n",
       "    <tr>\n",
       "      <th>0</th>\n",
       "      <td>2</td>\n",
       "      <td>3</td>\n",
       "      <td>12669</td>\n",
       "      <td>9656</td>\n",
       "      <td>7561</td>\n",
       "      <td>214</td>\n",
       "      <td>2674</td>\n",
       "      <td>1338</td>\n",
       "    </tr>\n",
       "    <tr>\n",
       "      <th>1</th>\n",
       "      <td>2</td>\n",
       "      <td>3</td>\n",
       "      <td>7057</td>\n",
       "      <td>9810</td>\n",
       "      <td>9568</td>\n",
       "      <td>1762</td>\n",
       "      <td>3293</td>\n",
       "      <td>1776</td>\n",
       "    </tr>\n",
       "    <tr>\n",
       "      <th>2</th>\n",
       "      <td>2</td>\n",
       "      <td>3</td>\n",
       "      <td>6353</td>\n",
       "      <td>8808</td>\n",
       "      <td>7684</td>\n",
       "      <td>2405</td>\n",
       "      <td>3516</td>\n",
       "      <td>7844</td>\n",
       "    </tr>\n",
       "    <tr>\n",
       "      <th>3</th>\n",
       "      <td>1</td>\n",
       "      <td>3</td>\n",
       "      <td>13265</td>\n",
       "      <td>1196</td>\n",
       "      <td>4221</td>\n",
       "      <td>6404</td>\n",
       "      <td>507</td>\n",
       "      <td>1788</td>\n",
       "    </tr>\n",
       "    <tr>\n",
       "      <th>4</th>\n",
       "      <td>2</td>\n",
       "      <td>3</td>\n",
       "      <td>22615</td>\n",
       "      <td>5410</td>\n",
       "      <td>7198</td>\n",
       "      <td>3915</td>\n",
       "      <td>1777</td>\n",
       "      <td>5185</td>\n",
       "    </tr>\n",
       "  </tbody>\n",
       "</table>\n",
       "</div>"
      ],
      "text/plain": [
       "   Channel  Region  Fresh  Milk  Grocery  Frozen  Detergents_Paper  Delicassen\n",
       "0        2       3  12669  9656     7561     214              2674        1338\n",
       "1        2       3   7057  9810     9568    1762              3293        1776\n",
       "2        2       3   6353  8808     7684    2405              3516        7844\n",
       "3        1       3  13265  1196     4221    6404               507        1788\n",
       "4        2       3  22615  5410     7198    3915              1777        5185"
      ]
     },
     "execution_count": 35,
     "metadata": {},
     "output_type": "execute_result"
    }
   ],
   "source": [
    "data.head()"
   ]
  },
  {
   "cell_type": "markdown",
   "metadata": {},
   "source": [
    "There are multiple product categories – Fresh, Milk, Grocery, etc. The values represent the number of units purchased by each client for each product. \n",
    "\n",
    "Our aim is to make clusters from this data that can segment similar clients together. Of course, hierarchical clustering seems to be the right strategy to solve this problem.\n",
    "\n",
    "\n",
    "\n",
    "In Part 5 of this assignment, we saw how important it is to normalise the data so that the scale of each variable is the same. \n",
    "\n",
    "Why is this important?\n",
    "\n",
    "**DOUBLE CLICK ON THIS CELL TO TYPE YOUR ANSWER**\n",
    "\n",
    "There are products that are bought more often than others. \n",
    "The number of purchases from different products can vary greatly and the data is on different scales. \n",
    "This can affect the result and the data needs to be normalized."
   ]
  },
  {
   "cell_type": "markdown",
   "metadata": {},
   "source": [
    "Run the code cell below to import the function `normalize()` from `scikit-learn` that we will use to normalise the data"
   ]
  },
  {
   "cell_type": "code",
   "execution_count": 36,
   "metadata": {},
   "outputs": [],
   "source": [
    "from sklearn.preprocessing import normalize"
   ]
  },
  {
   "cell_type": "markdown",
   "metadata": {},
   "source": [
    "Complete the code cell below by normalising the dataframe `data`. Assign the new data to the object `data_scaled`.\n",
    "\n",
    "Next, use the `pandas` function `DataFrame()` to convert `data_scaled` to a dataframe `data_scaled`.\n",
    "For convenience, set the parameter `columns = data.columns` to keep the original column names."
   ]
  },
  {
   "cell_type": "code",
   "execution_count": 37,
   "metadata": {},
   "outputs": [],
   "source": [
    "#normalize the data\n",
    "data_scaled = normalize(data)\n",
    "\n",
    "#create a new datafarame\n",
    "data_scaled = pd.DataFrame(data_scaled, columns = data.columns)\n"
   ]
  },
  {
   "cell_type": "markdown",
   "metadata": {},
   "source": [
    "Run the code cell below to visualise the normalised dataframe."
   ]
  },
  {
   "cell_type": "code",
   "execution_count": 38,
   "metadata": {},
   "outputs": [
    {
     "data": {
      "text/html": [
       "<div>\n",
       "<style scoped>\n",
       "    .dataframe tbody tr th:only-of-type {\n",
       "        vertical-align: middle;\n",
       "    }\n",
       "\n",
       "    .dataframe tbody tr th {\n",
       "        vertical-align: top;\n",
       "    }\n",
       "\n",
       "    .dataframe thead th {\n",
       "        text-align: right;\n",
       "    }\n",
       "</style>\n",
       "<table border=\"1\" class=\"dataframe\">\n",
       "  <thead>\n",
       "    <tr style=\"text-align: right;\">\n",
       "      <th></th>\n",
       "      <th>Channel</th>\n",
       "      <th>Region</th>\n",
       "      <th>Fresh</th>\n",
       "      <th>Milk</th>\n",
       "      <th>Grocery</th>\n",
       "      <th>Frozen</th>\n",
       "      <th>Detergents_Paper</th>\n",
       "      <th>Delicassen</th>\n",
       "    </tr>\n",
       "  </thead>\n",
       "  <tbody>\n",
       "    <tr>\n",
       "      <th>0</th>\n",
       "      <td>0.000112</td>\n",
       "      <td>0.000168</td>\n",
       "      <td>0.708333</td>\n",
       "      <td>0.539874</td>\n",
       "      <td>0.422741</td>\n",
       "      <td>0.011965</td>\n",
       "      <td>0.149505</td>\n",
       "      <td>0.074809</td>\n",
       "    </tr>\n",
       "    <tr>\n",
       "      <th>1</th>\n",
       "      <td>0.000125</td>\n",
       "      <td>0.000188</td>\n",
       "      <td>0.442198</td>\n",
       "      <td>0.614704</td>\n",
       "      <td>0.599540</td>\n",
       "      <td>0.110409</td>\n",
       "      <td>0.206342</td>\n",
       "      <td>0.111286</td>\n",
       "    </tr>\n",
       "    <tr>\n",
       "      <th>2</th>\n",
       "      <td>0.000125</td>\n",
       "      <td>0.000187</td>\n",
       "      <td>0.396552</td>\n",
       "      <td>0.549792</td>\n",
       "      <td>0.479632</td>\n",
       "      <td>0.150119</td>\n",
       "      <td>0.219467</td>\n",
       "      <td>0.489619</td>\n",
       "    </tr>\n",
       "    <tr>\n",
       "      <th>3</th>\n",
       "      <td>0.000065</td>\n",
       "      <td>0.000194</td>\n",
       "      <td>0.856837</td>\n",
       "      <td>0.077254</td>\n",
       "      <td>0.272650</td>\n",
       "      <td>0.413659</td>\n",
       "      <td>0.032749</td>\n",
       "      <td>0.115494</td>\n",
       "    </tr>\n",
       "    <tr>\n",
       "      <th>4</th>\n",
       "      <td>0.000079</td>\n",
       "      <td>0.000119</td>\n",
       "      <td>0.895416</td>\n",
       "      <td>0.214203</td>\n",
       "      <td>0.284997</td>\n",
       "      <td>0.155010</td>\n",
       "      <td>0.070358</td>\n",
       "      <td>0.205294</td>\n",
       "    </tr>\n",
       "  </tbody>\n",
       "</table>\n",
       "</div>"
      ],
      "text/plain": [
       "    Channel    Region     Fresh      Milk   Grocery    Frozen  \\\n",
       "0  0.000112  0.000168  0.708333  0.539874  0.422741  0.011965   \n",
       "1  0.000125  0.000188  0.442198  0.614704  0.599540  0.110409   \n",
       "2  0.000125  0.000187  0.396552  0.549792  0.479632  0.150119   \n",
       "3  0.000065  0.000194  0.856837  0.077254  0.272650  0.413659   \n",
       "4  0.000079  0.000119  0.895416  0.214203  0.284997  0.155010   \n",
       "\n",
       "   Detergents_Paper  Delicassen  \n",
       "0          0.149505    0.074809  \n",
       "1          0.206342    0.111286  \n",
       "2          0.219467    0.489619  \n",
       "3          0.032749    0.115494  \n",
       "4          0.070358    0.205294  "
      ]
     },
     "execution_count": 38,
     "metadata": {},
     "output_type": "execute_result"
    }
   ],
   "source": [
    "data_scaled.head()"
   ]
  },
  {
   "cell_type": "markdown",
   "metadata": {},
   "source": [
    "Next,  let’s first draw the dendrogram to help us decide the number of clusters for this particular problem.\n",
    "\n",
    "Run the code cell below to create the dendrogram."
   ]
  },
  {
   "cell_type": "code",
   "execution_count": 39,
   "metadata": {},
   "outputs": [
    {
     "data": {
      "image/png": "[encoded data removed]",
      "text/plain": [
       "<Figure size 720x504 with 1 Axes>"
      ]
     },
     "metadata": {
      "needs_background": "light"
     },
     "output_type": "display_data"
    }
   ],
   "source": [
    "import scipy.cluster.hierarchy as shc\n",
    "plt.figure(figsize=(10, 7))  \n",
    "plt.title(\"Dendrogram\")  \n",
    "dend = shc.dendrogram(shc.linkage(data_scaled, method='ward'))"
   ]
  },
  {
   "cell_type": "markdown",
   "metadata": {},
   "source": [
    "The x-axis contains the samples and y-axis represents the distance between these samples. The vertical line with maximum distance is the blue line and hence, we can decide on a threshold of 6 and cut the dendrogram.\n",
    "\n",
    "Run the code cell below to visualise the dendrogram with the threshold line."
   ]
  },
  {
   "cell_type": "code",
   "execution_count": 40,
   "metadata": {},
   "outputs": [
    {
     "data": {
      "text/plain": [
       "<matplotlib.lines.Line2D at 0x2964fafcc10>"
      ]
     },
     "execution_count": 40,
     "metadata": {},
     "output_type": "execute_result"
    },
    {
     "data": {
      "image/png": "[encoded data removed]",
      "text/plain": [
       "<Figure size 720x504 with 1 Axes>"
      ]
     },
     "metadata": {
      "needs_background": "light"
     },
     "output_type": "display_data"
    }
   ],
   "source": [
    "plt.figure(figsize=(10, 7))  \n",
    "plt.title(\"Dendrogram\")  \n",
    "dend = shc.dendrogram(shc.linkage(data_scaled, method='ward'))\n",
    "plt.axhline(y=6, color='r', linestyle='--')"
   ]
  },
  {
   "cell_type": "markdown",
   "metadata": {},
   "source": [
    "How many clusters do we have at this point?\n",
    "\n",
    "**DOUBLE CLICK ON THIS CELL TO TYPE YOUR ANSWER**\n",
    "\n",
    "2 clusters"
   ]
  },
  {
   "cell_type": "markdown",
   "metadata": {},
   "source": [
    "We can now use the `AgglomerativeClustering()` from `scikit-learn` to apply hierarchical clustering for two clusters. The documentation about this function can be found [here](https://scikit-learn.org/stable/modules/generated/sklearn.cluster.AgglomerativeClustering.html)."
   ]
  },
  {
   "cell_type": "code",
   "execution_count": 41,
   "metadata": {},
   "outputs": [],
   "source": [
    "from sklearn.cluster import AgglomerativeClustering"
   ]
  },
  {
   "cell_type": "markdown",
   "metadata": {},
   "source": [
    "Complete the code cell below by setting the following parameters for `AgglomerativeClustering`\n",
    "    \n",
    "- `n_clusters = 2`\n",
    "- `affinity='euclidean`\n",
    "- `linkage='ward`\n",
    "\n",
    "Finally, use the `fit_predict()` of the scaled dataframe to apply the clustering to our data."
   ]
  },
  {
   "cell_type": "code",
   "execution_count": 42,
   "metadata": {},
   "outputs": [
    {
     "data": {
      "text/plain": [
       "array([1, 1, 1, 0, 0, 1, 0, 1, 1, 1, 1, 0, 0, 0, 0, 0, 1, 1, 0, 0, 0, 0,\n",
       "       0, 1, 0, 0, 0, 0, 1, 0, 0, 1, 0, 0, 1, 1, 0, 1, 1, 0, 0, 0, 1, 1,\n",
       "       1, 1, 1, 1, 1, 1, 0, 1, 0, 1, 0, 1, 1, 1, 0, 1, 0, 1, 1, 1, 0, 1,\n",
       "       1, 0, 1, 0, 0, 0, 0, 0, 1, 0, 0, 1, 0, 1, 0, 1, 1, 0, 0, 1, 1, 0,\n",
       "       0, 0, 0, 0, 1, 0, 1, 1, 1, 0, 0, 0, 1, 1, 1, 0, 0, 0, 1, 1, 1, 1,\n",
       "       0, 1, 0, 0, 0, 0, 0, 1, 0, 0, 0, 0, 0, 1, 0, 0, 0, 0, 1, 0, 0, 0,\n",
       "       0, 0, 0, 0, 1, 1, 0, 1, 0, 0, 0, 0, 0, 1, 0, 0, 0, 0, 0, 1, 0, 1,\n",
       "       0, 1, 1, 0, 1, 1, 1, 0, 0, 1, 1, 1, 1, 1, 0, 0, 1, 1, 1, 1, 1, 1,\n",
       "       0, 0, 0, 1, 0, 0, 1, 1, 1, 0, 0, 1, 1, 1, 0, 0, 0, 1, 0, 0, 0, 1,\n",
       "       0, 0, 1, 1, 0, 1, 1, 1, 0, 1, 1, 1, 0, 1, 0, 1, 1, 1, 1, 0, 1, 0,\n",
       "       0, 1, 0, 0, 0, 0, 0, 0, 1, 0, 0, 1, 0, 1, 0, 1, 0, 0, 0, 0, 0, 0,\n",
       "       0, 0, 1, 1, 0, 0, 0, 0, 0, 1, 0, 0, 1, 0, 0, 0, 0, 0, 0, 0, 0, 1,\n",
       "       1, 1, 1, 0, 1, 0, 0, 1, 1, 0, 1, 1, 0, 0, 0, 0, 1, 0, 0, 0, 0, 0,\n",
       "       0, 0, 0, 0, 1, 0, 1, 1, 0, 0, 0, 0, 1, 1, 0, 1, 1, 1, 1, 1, 1, 0,\n",
       "       0, 1, 0, 0, 1, 0, 0, 1, 0, 1, 0, 1, 1, 0, 0, 0, 0, 0, 0, 1, 0, 0,\n",
       "       0, 1, 0, 1, 0, 0, 0, 0, 0, 0, 1, 1, 1, 1, 0, 1, 1, 0, 1, 1, 0, 1,\n",
       "       1, 1, 0, 1, 0, 1, 1, 1, 0, 0, 1, 0, 0, 1, 0, 0, 0, 0, 0, 0, 1, 0,\n",
       "       0, 0, 1, 0, 1, 1, 0, 0, 0, 0, 1, 0, 1, 0, 0, 0, 0, 1, 1, 0, 0, 0,\n",
       "       1, 0, 0, 0, 0, 0, 0, 0, 0, 0, 0, 1, 0, 0, 0, 1, 1, 0, 0, 1, 1, 1,\n",
       "       1, 0, 1, 0, 0, 0, 0, 0, 1, 0, 1, 0, 1, 0, 0, 1, 0, 0, 0, 1, 0, 1],\n",
       "      dtype=int64)"
      ]
     },
     "execution_count": 42,
     "metadata": {},
     "output_type": "execute_result"
    }
   ],
   "source": [
    "cluster = AgglomerativeClustering(n_clusters = 2, affinity='euclidean',  linkage='ward')\n",
    "\n",
    "#use fit predict on the scaled dataframe\n",
    "cluster.fit_predict(data_scaled)"
   ]
  },
  {
   "cell_type": "markdown",
   "metadata": {},
   "source": [
    "Why can we only see the values of 0s and 1s in the output?\n",
    "\n",
    "\n",
    "**DOUBLE CLICK ON THIS CELL TO TYPE YOUR ANSWER**\n",
    "Because we only have 2 clusters."
   ]
  },
  {
   "cell_type": "markdown",
   "metadata": {},
   "source": [
    "\n",
    "Let’s now visualise the two clusters:"
   ]
  },
  {
   "cell_type": "code",
   "execution_count": 43,
   "metadata": {},
   "outputs": [
    {
     "data": {
      "text/plain": [
       "<matplotlib.collections.PathCollection at 0x2964f11fd00>"
      ]
     },
     "execution_count": 43,
     "metadata": {},
     "output_type": "execute_result"
    },
    {
     "data": {
      "image/png": "[encoded data removed]",
      "text/plain": [
       "<Figure size 720x504 with 1 Axes>"
      ]
     },
     "metadata": {
      "needs_background": "light"
     },
     "output_type": "display_data"
    }
   ],
   "source": [
    "plt.figure(figsize=(10, 7))  \n",
    "plt.scatter(data_scaled['Milk'], data_scaled['Grocery'], c=cluster.labels_) "
   ]
  },
  {
   "cell_type": "markdown",
   "metadata": {},
   "source": [
    "Awesome! As expected, we can clearly visualise the two clusters.\n",
    "\n",
    "CONGRATULATIONS ON COMPLETING THE WEEK 10 ASSIGNMENT!"
   ]
  },
  {
   "cell_type": "code",
   "execution_count": null,
   "metadata": {},
   "outputs": [],
   "source": []
  }
 ],
 "metadata": {
  "kernelspec": {
   "display_name": "Python 3",
   "language": "python",
   "name": "python3"
  },
  "language_info": {
   "codemirror_mode": {
    "name": "ipython",
    "version": 3
   },
   "file_extension": ".py",
   "mimetype": "text/x-python",
   "name": "python",
   "nbconvert_exporter": "python",
   "pygments_lexer": "ipython3",
   "version": "3.8.5"
  }
 },
 "nbformat": 4,
 "nbformat_minor": 2
}
