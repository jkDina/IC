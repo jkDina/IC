{
 "cells": [
  {
   "cell_type": "markdown",
   "metadata": {},
   "source": [
    "# Python Primer\n",
    "\n",
    "**Author: Jessica Cervi**\n",
    "\n",
    "\n",
    "### Introduction to Jupyter Notebook\n",
    "\n",
    "If you are reading this line, it  means you have successfully opened a `Jupyter Notebook`. If you are viewing this Notebook and do not have a `Python 3` kernel running, please review the Jupyter Notebooks video or seek technical help from Programme Support. \n",
    "\n",
    "![](kernel.png)"
   ]
  },
  {
   "cell_type": "markdown",
   "metadata": {},
   "source": [
    "`Jupyter Notebook` is an application that offers plenty of functionality which can be extended with plug-ins and and other modifications. It can incorporate text, LaTeX equations and images and execute Python codes.\n",
    "\n",
    "You might have noticed that the basic structure of a Jupyter Notebook consists of cells. The main ones you will be using are *code cells* and *markdown cells*. Code cells are designed to accept code while markdown cells are predisposed to accept text.\n",
    "\n",
    "Below is an empty code cell."
   ]
  },
  {
   "cell_type": "code",
   "execution_count": null,
   "metadata": {},
   "outputs": [],
   "source": []
  },
  {
   "cell_type": "markdown",
   "metadata": {},
   "source": [
    "Note the `In [ ]` to its left - thats the clearest indication that a cell is ready to read and execute a code.  \n",
    "\n",
    "*These* words, on the other hand, appear in a `markdown` cell. Below is an empty `markdown` cell."
   ]
  },
  {
   "cell_type": "markdown",
   "metadata": {},
   "source": []
  },
  {
   "cell_type": "markdown",
   "metadata": {},
   "source": [
    "`Markdown` cells can be used to integrate text, figures, etc. into the Notebook. \n",
    "\n",
    "When navigating through the various cells in a `Notebook`, you will use two modes: `Command Mode` and `Edit Mode`.  \n",
    "\n",
    "In `Command Mode`, cells will feature a blue border, whereas `Edit Mode` features cells with a green border.\n",
    "\n",
    "When in `Command Mode`, double-clicking on a cell or hitting `enter` will activate `Edit Mode`. In `Edit Mode`, hitting `esc` will return to Command Mode.  \n",
    "\n",
    "A full list of keyboard shortcuts available in both `Command` and `Edit` modes can be found under the `<Help>` menu at the top of your screen.  \n",
    "\n",
    "A few important and convenient `Command Mode` shortcuts are as follows:  \n",
    "- `<a>` creates a new cell [a]bove the current cell\n",
    "- `<b>` creates a new cell [b]elow the current cell  \n",
    "- `<d , d>` will delete the selected cell(s)\n",
    "- `<s>` or `<ctrl-s>` will save the notebook   \n",
    "\n",
    "In `Edit Mode`, the important shortcuts are are follows:\n",
    "- `<shift-enter>` runs the current cell and highlights the next cell.\n",
    "- `<alt-enter>` runs the current cell and creates a new cell below.\n",
    "\n",
    "Use this cell to practice switching between `Command` and `Edit` modes; try running the cell and creating new cells.  \n",
    "\n",
    "---\n",
    "When executing a cell, you will see the `In [ ]` change, for example, to `In [1]`.\n",
    "After running a cell, the number next to the `In` will increment indicating a cell has run.\n",
    "\n"
   ]
  },
  {
   "cell_type": "markdown",
   "metadata": {},
   "source": [
    "## Introduction to Python\n",
    "\n",
    "In this part of the Notebook, we will review some basic concepts of the Python programming language, such as data types, functions, conditional statements and loops. Additionally, we will review some of the functionalities of powerful Python packages, such as `NumPy` and `pandas`.\n",
    "\n",
    "### Python as a calculator\n",
    "\n",
    "Python can simply be thought of as a big calculator. As a calculator, it features a number of built-in operators:\n",
    "\n",
    "- `+` for addition\n",
    "- `-` for subtraction\n",
    "- `*` for multiplication\n",
    "- `/` for division\n",
    "- `**` for exponents, e.g. `2**4` is $2^4$  \n",
    "- `//` for floor division e.g.  `9/4 = 2.25; 9//4 = 2; 9/2 = 4.5, 9//2 = 4`\n",
    "- `%` as the modulo operator. e.g. `9%3 = 0; 9%2 = 1; 9%4 = 1; 9%5 = 4`, and in general, `n1%n2` returns the remainder from `n1/n2`\n",
    "\n",
    "Run the cell below to see how this works."
   ]
  },
  {
   "cell_type": "code",
   "execution_count": 1,
   "metadata": {},
   "outputs": [
    {
     "data": {
      "text/plain": [
       "(4, -2, 15.600000000000001, 4.5, 4, 16)"
      ]
     },
     "execution_count": 1,
     "metadata": {},
     "output_type": "execute_result"
    }
   ],
   "source": [
    "2+2, 1-3, 5.2*3, 9/2, 9//2, 2**4"
   ]
  },
  {
   "cell_type": "markdown",
   "metadata": {},
   "source": [
    "Python can also print out messages to the 'console' using the `print()` command.  \n",
    "Run the following:"
   ]
  },
  {
   "cell_type": "code",
   "execution_count": 2,
   "metadata": {},
   "outputs": [
    {
     "name": "stdout",
     "output_type": "stream",
     "text": [
      "Hello world\n"
     ]
    }
   ],
   "source": [
    "print(\"Hello world\")"
   ]
  },
  {
   "cell_type": "markdown",
   "metadata": {},
   "source": [
    "### Python data types \n",
    "Python has some  basic, built-in data types that you will encounter throughout this course. \n",
    "- `int` is an integer, such as 1.\n",
    "- `float` is a float or a number with a decimal point, such as 1.0.\n",
    "- `str` is a string or any data enclosed in double quotation marks. This is often used for texts such as 'hello'\n",
    "- `bool` is a boolean, which produces a value of `True` or `False`.\n",
    "- `tuple` is a tuple consisting of comma separated elements enclosed within parentheses `()`. It is immutable.\n",
    "- `list` is a list consisting of comma separated elements enclosed within brackets `[]`. Lists may include elements of multiple data types.\n",
    "- `dict` is a dictionary consisting of comma separated `key: value` pairs enclosed within curly brackets `{}`. Example: `{'key1': 1, 'key2': 2}`.\n",
    "\n",
    "\n",
    "Below are some examples of the basic data types:"
   ]
  },
  {
   "cell_type": "code",
   "execution_count": 3,
   "metadata": {},
   "outputs": [
    {
     "name": "stdout",
     "output_type": "stream",
     "text": [
      "7 is a  <class 'int'>\n",
      "7.1 is a  <class 'float'>\n",
      "Joe is a  <class 'str'>\n",
      "True is a  <class 'bool'>\n"
     ]
    }
   ],
   "source": [
    "print(7, \"is a \", type(7))\n",
    "print(7.1, \"is a \", type(7.1))\n",
    "print(\"Joe\", \"is a \", type(\"Joe\"))\n",
    "print(True, \"is a \", type(True))"
   ]
  },
  {
   "cell_type": "markdown",
   "metadata": {},
   "source": [
    "### Variable assignment  \n",
    "\n",
    "Variables may be assigned (almost) any name by the user. There are a few [reserved words](https://www.google.com/search?client=opera&ei=a4q1W7juKua0jwS30ZO4BA&q=python+keywords+3.6+list&oq=python+keywords+3.6+list&gs_l=psy-ab.3..33i22i29i30l10.6879.7300..7427...0.0..0.180.641.1j4......0....1..gws-wiz.......0i22i30.FR38nCgXD0g) and [names of builtin functions](https://docs.python.org/3.6/library/functions.html) that cannot be used for variable names. In general, Python style guides suggest using `lower_case_words_connected_by_undersore_for_variable_names`.  \n",
    "\n",
    "Assignment in Python occurs using the `=` operator, as seen in the next cell."
   ]
  },
  {
   "cell_type": "code",
   "execution_count": 4,
   "metadata": {},
   "outputs": [
    {
     "name": "stdout",
     "output_type": "stream",
     "text": [
      "174\n"
     ]
    }
   ],
   "source": [
    "var = 174\n",
    "print(var)"
   ]
  },
  {
   "cell_type": "markdown",
   "metadata": {},
   "source": [
    "### Tuples\n",
    "\n",
    "A tuple is a collection of Python objects defined within brackets and separated by commas. Tuples are indexed and can contain nested objects and repetition. Tuples are immutable.\n",
    "\n",
    "An example of a tuple is given in the code cell below."
   ]
  },
  {
   "cell_type": "code",
   "execution_count": 5,
   "metadata": {},
   "outputs": [
    {
     "name": "stdout",
     "output_type": "stream",
     "text": [
      "('Hello', 3, 'London', 28)\n",
      "<class 'tuple'>\n"
     ]
    }
   ],
   "source": [
    "my_tuple = (\"Hello\", 3, \"London\", 28)\n",
    "print(my_tuple)\n",
    "print(type(my_tuple))"
   ]
  },
  {
   "cell_type": "markdown",
   "metadata": {},
   "source": [
    "#### A note about indexing and slicing in Python\n",
    "\n",
    "_Indexing_ just means accessing elements. To access elements in a list, you can use the square brackets notation. There are many methods to access elements in Python.\n",
    "\n",
    "You can access single elements using the name followed by a number in []. For example:"
   ]
  },
  {
   "cell_type": "code",
   "execution_count": 6,
   "metadata": {},
   "outputs": [
    {
     "name": "stdout",
     "output_type": "stream",
     "text": [
      "1\n",
      "7\n"
     ]
    }
   ],
   "source": [
    "tuple_index = (1,2,3,4,5,7)\n",
    "\n",
    "#The first element in Python has indez zero!\n",
    "first_elem = tuple_index[0]\n",
    "print(first_elem)\n",
    "\n",
    "#Access last element\n",
    "last_elem = tuple_index[-1]\n",
    "print(last_elem)"
   ]
  },
  {
   "cell_type": "markdown",
   "metadata": {},
   "source": [
    "_Slicing_ an object gives us another object instead of a single element.\n",
    "\n",
    "A slice specifies a start index and an end index, and it creates and returns a new list based on the indices. The indices are separated by a colon `:`. Keep in mind that the sub-list returned contains only the elements till (end index - 1). For example:"
   ]
  },
  {
   "cell_type": "code",
   "execution_count": 7,
   "metadata": {},
   "outputs": [
    {
     "name": "stdout",
     "output_type": "stream",
     "text": [
      "(3, 4, 5)\n"
     ]
    }
   ],
   "source": [
    "sliced_tuple = tuple_index[2:5]\n",
    "print(sliced_tuple)"
   ]
  },
  {
   "cell_type": "markdown",
   "metadata": {},
   "source": [
    "### Lists\n",
    "\n",
    "A list is  a collection of elements defined within square brackets and separated by commas. Lists are indexed, can contain nested objects and repetition and, unlike tuples, are mutable.\n",
    "\n",
    "It can have any number of items and they may be of different types (integer, float, string, etc.).\n",
    "\n",
    "An example of a list is given in the code cell below."
   ]
  },
  {
   "cell_type": "code",
   "execution_count": 8,
   "metadata": {},
   "outputs": [
    {
     "name": "stdout",
     "output_type": "stream",
     "text": [
      "[1, 3.4, 'Alex', 'Machine Learning']\n",
      "<class 'list'>\n"
     ]
    }
   ],
   "source": [
    "my_list = [1,3.4, \"Alex\", \"Machine Learning\"]\n",
    "print(my_list)\n",
    "print(type(my_list))"
   ]
  },
  {
   "cell_type": "markdown",
   "metadata": {},
   "source": [
    "### Dictonaries\n",
    "\n",
    "A dictionary can be created by placing elements within curly braces and separating them with commas. \n",
    "\n",
    "A dictionary holds a pair of values, one being the `Key` and the other corresponding pair element being its `value`. Values in a dictionary can be of any datatype and can be duplicated, whereas keys can’t be repeated and must be immutable. Like tuples and lists, dictonaries are indexed.\n",
    "\n",
    "An example of a dictonary is given in the code cell below."
   ]
  },
  {
   "cell_type": "code",
   "execution_count": 9,
   "metadata": {},
   "outputs": [
    {
     "name": "stdout",
     "output_type": "stream",
     "text": [
      "{'name': 'John', 'age': 27, 'city': 'Seattle', 'salary': 4382.78}\n",
      "<class 'dict'>\n"
     ]
    }
   ],
   "source": [
    "my_dict = {\"name\": \"John\", \"age\": 27, \"city\" : \"Seattle\", \"salary\" : 4382.78}\n",
    "print(my_dict)\n",
    "print(type(my_dict))"
   ]
  },
  {
   "cell_type": "markdown",
   "metadata": {},
   "source": [
    "### Python functions\n",
    "Python has built-in functions and allows users to create user-defined functions. In this course, you will use both and a starter code will be provided. Functions include a header, body and arguments or parameters. \n",
    "\n",
    "Here's how to define a function:\n",
    "\n",
    "- Keyword `def` marks the start of a function header followed by the function name to uniquely identify it. Add parameters (arguments) through which we pass values to a function. They are optional. End the header with a colon `:`.\n",
    "- Optional documentation string (docstring) describes what the function does.\n",
    "- Instructions make up the function body. Statements must be indented (usually four spaces).\n",
    "- An optional return statement returns a value from the function.\n",
    "\n",
    "\n",
    "#### Sample function\n",
    "Try running the sample functions below. Be sure to run the first code box, to define the function, before running the second code box to see what the function does."
   ]
  },
  {
   "cell_type": "code",
   "execution_count": 10,
   "metadata": {},
   "outputs": [],
   "source": [
    "def hello_name(name):\n",
    "    x = \"Hello, \" + name\n",
    "    print(x)"
   ]
  },
  {
   "cell_type": "code",
   "execution_count": 11,
   "metadata": {},
   "outputs": [
    {
     "name": "stdout",
     "output_type": "stream",
     "text": [
      "Hello, Jack\n"
     ]
    }
   ],
   "source": [
    "hello_name(\"Jack\")"
   ]
  },
  {
   "cell_type": "code",
   "execution_count": 12,
   "metadata": {},
   "outputs": [],
   "source": [
    "def cube_power(x):\n",
    "    \"\"\"\n",
    "    Function to compute the cube \n",
    "    of a number x\n",
    "    \"\"\"\n",
    "    ans = x**3\n",
    "    return ans"
   ]
  },
  {
   "cell_type": "code",
   "execution_count": 13,
   "metadata": {},
   "outputs": [
    {
     "name": "stdout",
     "output_type": "stream",
     "text": [
      "8\n"
     ]
    }
   ],
   "source": [
    "print(cube_power(2))"
   ]
  },
  {
   "cell_type": "markdown",
   "metadata": {},
   "source": [
    "### Lambda functions\n",
    "\n",
    "In Python, anonymous function (or lambda functions) are functions without a name. They are defined using the `lambda`  and they generally have the following syntax:\n",
    "\n",
    "``` Python\n",
    "lambda arguments: expression\n",
    "```\n",
    "\n",
    "- Lambda functions can have any number of arguments but only one expression, which is evaluated and returned.\n",
    "- Lambda functions are syntactically restricted to a single expression.\n",
    "\n",
    "Below, there's an example of a lambda function that returns the cube of a number x:"
   ]
  },
  {
   "cell_type": "code",
   "execution_count": 14,
   "metadata": {},
   "outputs": [
    {
     "name": "stdout",
     "output_type": "stream",
     "text": [
      "8\n"
     ]
    }
   ],
   "source": [
    "cube = lambda x : x**3\n",
    "print(cube(2))"
   ]
  },
  {
   "cell_type": "markdown",
   "metadata": {},
   "source": [
    "### If - elif - else statement\n",
    "\n",
    "In a Python program, the if statement is how you perform if-then decision-making. It allows for conditional execution of a statement or group of statements based on the value of an expression.\n",
    "\n",
    "**if**: The if statement is the most simple decision-making statement. It is used to decide whether a certain statement or block of statements will be executed or not, i.e if a certain condition is true, then a block of statement is executed, otherwise not.\n",
    "\n",
    "The basic syntax is given below:\n",
    "\n",
    "```python\n",
    "if condition:\n",
    "    # Executes this block if\n",
    "    # condition is true\n",
    "```\n",
    "where condition is an expression evaluated in a boolean context. The indented block of code below the if statement will be implemented only if the condition is true."
   ]
  },
  {
   "cell_type": "code",
   "execution_count": 15,
   "metadata": {},
   "outputs": [
    {
     "name": "stdout",
     "output_type": "stream",
     "text": [
      "10 is less than 15\n"
     ]
    }
   ],
   "source": [
    "#if statement example\n",
    "\n",
    "i = 10\n",
    "if (i > 15): \n",
    "   print (\"10 is greater than 15\") \n",
    "print (\"10 is less than 15\") "
   ]
  },
  {
   "cell_type": "markdown",
   "metadata": {},
   "source": [
    "Notice that because i is not greater than 15, the condition *inside* the if statement does not get executed and the message '10 is less than 15' gets printed."
   ]
  },
  {
   "cell_type": "markdown",
   "metadata": {},
   "source": [
    "**if-else**: we can incorporate the else statement with the if statement to execute a block of code when the condition is false.\n",
    "\n",
    "\n",
    "```python\n",
    "if (condition):\n",
    "    # Executes this block if\n",
    "    # condition is true\n",
    "else:\n",
    "    # Executes this block if\n",
    "    # condition is false\n",
    "```\n",
    "\n",
    "\n",
    "Observe the example below:"
   ]
  },
  {
   "cell_type": "code",
   "execution_count": 26,
   "metadata": {},
   "outputs": [
    {
     "name": "stdout",
     "output_type": "stream",
     "text": [
      "10 is 5 units smaller than 15\n"
     ]
    }
   ],
   "source": [
    "#if-else statement example\n",
    "\n",
    "i = 10\n",
    "if (i > 15): \n",
    "    print (\"10 is greater than 15\") \n",
    "else:\n",
    "    print (\"10 is 5 units smaller than 15\") "
   ]
  },
  {
   "cell_type": "markdown",
   "metadata": {},
   "source": [
    "Notice that, the block of code following the else statement is executed, as the condition present in the if statement is false. "
   ]
  },
  {
   "cell_type": "markdown",
   "metadata": {},
   "source": [
    "**if-elif-else:** In this case, the if statements are executed from the top down. As soon as one of the conditions controlling the **if** becomes true, the statement associated with that **if** is executed, and the rest of the ladder is bypassed. If none of the conditions is true, then the final **else** statement will be executed.\n",
    "\n",
    "    \n",
    "```python\n",
    "if (condition1):\n",
    "    statement\n",
    "elif (condition2):\n",
    "    statement\n",
    "elif (condition3):\n",
    "    statement   \n",
    "else:\n",
    "    statement\n",
    "```\n",
    "\n",
    "Observe the example below:"
   ]
  },
  {
   "cell_type": "code",
   "execution_count": 27,
   "metadata": {},
   "outputs": [
    {
     "name": "stdout",
     "output_type": "stream",
     "text": [
      "i is 20\n"
     ]
    }
   ],
   "source": [
    "i = 20\n",
    "if (i == 10): \n",
    "    print (\"i is 10\") \n",
    "elif (i == 15): \n",
    "    print (\"i is 15\") \n",
    "elif (i == 20): \n",
    "    print (\"i is 20\") \n",
    "else: \n",
    "    print (\"i is not present\")"
   ]
  },
  {
   "cell_type": "markdown",
   "metadata": {},
   "source": [
    "Because we have defined `i` to be equal to 20, the first two conditions get bypassed and the second `elif` expression gets executed."
   ]
  },
  {
   "cell_type": "markdown",
   "metadata": {},
   "source": [
    "## Loops\n",
    "\n",
    "### For loop\n",
    "\n",
    "In Python, **for loops** are used for sequential traversal to iterate over a list or string or an array.\n",
    "\n",
    "The basic syntax of a for loop is given below:\n",
    "\n",
    "```python\n",
    "for i in (range or list):\n",
    "    # Executes this block \n",
    "    # until we are done iterating over  \n",
    "    #the given list or array\n",
    "```\n",
    "\n",
    "For loops can iterate over a sequence of numbers using the `range` function. Observe the example below:\n"
   ]
  },
  {
   "cell_type": "code",
   "execution_count": 2,
   "metadata": {},
   "outputs": [
    {
     "name": "stdout",
     "output_type": "stream",
     "text": [
      "16\n",
      "25\n",
      "36\n",
      "49\n"
     ]
    }
   ],
   "source": [
    "for x in range(4,8):\n",
    "    print(x**2)"
   ]
  },
  {
   "cell_type": "markdown",
   "metadata": {},
   "source": [
    "For loops can also iterate over lists. Observe the example below:"
   ]
  },
  {
   "cell_type": "code",
   "execution_count": 5,
   "metadata": {},
   "outputs": [
    {
     "name": "stdout",
     "output_type": "stream",
     "text": [
      "tomatoes\n",
      "salad\n",
      "potatoes\n",
      "peppers\n"
     ]
    }
   ],
   "source": [
    "vegetables = [\"tomatoes\", \"salad\", \"potatoes\", \"peppers\"]\n",
    "for v in vegetables:\n",
    "    print(v)"
   ]
  },
  {
   "cell_type": "markdown",
   "metadata": {},
   "source": [
    "### While loops\n",
    "\n",
    "A while loop statement in Python repeatedly executes a target statement as long as a given condition is true. Make sure your while loop has an exit condition: if the condition is always true, you will get stuck in an infinite loop!\n",
    "\n",
    "The basic syntax of a while loop is:\n",
    "\n",
    "```python\n",
    "while (condition):\n",
    "    # Executes this block if\n",
    "    # condition is true\n",
    "```\n",
    "\n",
    "Observe the example below:"
   ]
  },
  {
   "cell_type": "code",
   "execution_count": 8,
   "metadata": {},
   "outputs": [
    {
     "name": "stdout",
     "output_type": "stream",
     "text": [
      "The count is: 0\n",
      "The count is: 1\n",
      "The count is: 2\n",
      "The count is: 3\n",
      "The count is: 4\n",
      "The count is: 5\n",
      "The count is: 6\n",
      "The count is: 7\n",
      "The count is: 8\n"
     ]
    }
   ],
   "source": [
    "count = 0\n",
    "while (count < 9):\n",
    "   print('The count is:', count)\n",
    "   count = count + 1"
   ]
  },
  {
   "cell_type": "markdown",
   "metadata": {},
   "source": [
    "### Python packages\n",
    "Python is an open-source langugage with many packages for data science. Packages are collections of functions designed for a specific purpose that you can use. In this course, we will use three popular Python packages. \n",
    "- **pandas**: this is a popular package for data manipulation and analysis. In pandas, you will use the series and the dataframe, the two ways that pandas organises data. You can think of a series as a single list of data and a dataframe as a collection of columns and rows, which is similar to a spreadsheet. \n",
    "- **NumPy**: this is a powerful package for mathematical calculations. In NumPy, data is organised into arrays, which enable us to perform calculations on the data.\n",
    "- **SkLearn**: this is a powerful package for linear algebra operations and enables us to conduct machine learning. \n",
    "\n",
    "### Documentation  and resources\n",
    "You can access relevant documentation at the links below for additional learning. We also recommend the resources listed below to help you ask questions, troubleshoot and connect with the data science and machine learning communities. \n",
    "- Python documentation: https://docs.python.org/3.3/reference/index.html\n",
    "- pandas documentation: https://pandas.pydata.org/docs/getting_started/index.html#getting-started\n",
    "- NumPy documentation: https://docs.scipy.org/doc/\n",
    "- SkLearn documentation: https://scikit-learn.org/stable/user_guide.html\n",
    "- Stack Overflow: https://stackoverflow.com/questions/tagged/python"
   ]
  },
  {
   "cell_type": "markdown",
   "metadata": {},
   "source": [
    "### Numpy basics\n",
    "\n",
    "`NumPy` is the core library for scientific computing in Python. It provides a high-performance, multidimensional array object, and tools for working with these arrays.\n",
    "\n",
    "\n",
    "#### Arrays\n",
    "\n",
    "A `NumPy` array is arguably the must powerful object that is part of this library.\n",
    "\n",
    "An array is a grid of values, all of the same type. The number of dimensions is the rank of the array; the shape of an array is a tuple of integers giving the size of the array along each dimension.\n",
    "\n",
    "We can initialise NumPy arrays from nested Python lists, and access elements using square brackets. See below:\n"
   ]
  },
  {
   "cell_type": "code",
   "execution_count": 16,
   "metadata": {},
   "outputs": [
    {
     "name": "stdout",
     "output_type": "stream",
     "text": [
      "<class 'numpy.ndarray'>\n",
      "(3,)\n",
      "1 2 3\n",
      "[5 2 3]\n",
      "(2, 3)\n",
      "1 2 4\n"
     ]
    }
   ],
   "source": [
    "import numpy as np        #importing and aliasing NumPy\n",
    "\n",
    "a = np.array([1, 2, 3])   # Create a rank 1 array (1 dimensional)\n",
    "print(type(a))            # Prints \"<class 'numpy.ndarray'>\"\n",
    "print(a.shape)            # Prints \"(3,)\"\n",
    "print(a[0], a[1], a[2])   # Prints \"1 2 3\"\n",
    "a[0] = 5                  # Change an element of the array\n",
    "print(a)                  # Prints \"[5, 2, 3]\"\n",
    "\n",
    "\n",
    "b = np.array([[1,2,3],[4,5,6]])    # Create a rank 2 array (2 dimensional)\n",
    "print(b.shape)                     # Prints \"(2, 3)\"\n",
    "print(b[0, 0], b[0, 1], b[1, 0])   # Prints \"1 2 4\""
   ]
  },
  {
   "cell_type": "markdown",
   "metadata": {},
   "source": [
    "NumPy also provides many functions to create arrays:\n"
   ]
  },
  {
   "cell_type": "code",
   "execution_count": 17,
   "metadata": {},
   "outputs": [
    {
     "name": "stdout",
     "output_type": "stream",
     "text": [
      "[[0. 0.]\n",
      " [0. 0.]]\n",
      "[[1. 1.]]\n",
      "[[7 7]\n",
      " [7 7]]\n",
      "[[1. 0.]\n",
      " [0. 1.]]\n",
      "[[0.75541531 0.74231258]\n",
      " [0.56012948 0.51371359]]\n"
     ]
    }
   ],
   "source": [
    "\n",
    "a = np.zeros((2,2))   # Create an array of all zeros\n",
    "print (a)              # Prints \"[[ 0.  0.]\n",
    "                      #          [ 0.  0.]]\"\n",
    "\n",
    "b = np.ones((1,2))    # Create an array of all ones\n",
    "print(b)              # Prints \"[[ 1.  1.]]\"\n",
    "\n",
    "c = np.full((2,2), 7)  # Create a constant array\n",
    "print(c)               # Prints \"[[ 7.  7.]\n",
    "                       #          [ 7.  7.]]\"\n",
    "\n",
    "d = np.eye(2)         # Create a 2x2 identity matrix\n",
    "print(d)              # Prints \"[[ 1.  0.]\n",
    "                      #          [ 0.  1.]]\"\n",
    "\n",
    "e = np.random.random((2,2))  # Create an array filled with random values\n",
    "print(e)                     \n",
    "                            "
   ]
  },
  {
   "cell_type": "markdown",
   "metadata": {},
   "source": [
    "#### Array indexing\n",
    "\n",
    "NumPy offers several ways to index arrays. Here, we will cover just some of them. For a more comprehensive explanation, refer to the [NumPy basics documentation](https://docs.scipy.org/doc/numpy/user/basics.html).\n",
    "\n",
    "**Slicing**: similar to Python lists, NumPy arrays can be sliced. Since arrays may be multidimensional, you must specify a slice for each dimension of the array:"
   ]
  },
  {
   "cell_type": "code",
   "execution_count": 18,
   "metadata": {},
   "outputs": [
    {
     "name": "stdout",
     "output_type": "stream",
     "text": [
      "2\n",
      "77\n"
     ]
    }
   ],
   "source": [
    "# Create the following rank 2 array with shape (3, 4)\n",
    "# [[ 1  2  3  4]\n",
    "#  [ 5  6  7  8]\n",
    "#  [ 9 10 11 12]]\n",
    "a = np.array([[1,2,3,4], [5,6,7,8], [9,10,11,12]])\n",
    "\n",
    "# Use slicing to pull out the subarray consisting of the first 2 rows\n",
    "# and columns 1 and 2; b is the following array of shape (2, 2):\n",
    "# [[2 3]\n",
    "#  [6 7]]\n",
    "b = a[:2, 1:3]\n",
    "\n",
    "# A slice of an array is a view into the same data, so modifying it\n",
    "# will modify the original array.\n",
    "print(a[0, 1])   # Prints \"2\"\n",
    "b[0, 0] = 77     # b[0, 0] is the same piece of data as a[0, 1]\n",
    "print(a[0, 1])   # Prints \"77\""
   ]
  },
  {
   "cell_type": "markdown",
   "metadata": {},
   "source": [
    "**Integer array indexing:** when you index a NumPy arrays using slicing, the resulting array view will always be a subarray of the original array. In contrast, integer array indexing allows you to construct arbitrary arrays using the data from another array. Here is an example:"
   ]
  },
  {
   "cell_type": "code",
   "execution_count": 17,
   "metadata": {},
   "outputs": [
    {
     "name": "stdout",
     "output_type": "stream",
     "text": [
      "[1 4 5]\n",
      "[1 4 5]\n",
      "[2 2]\n",
      "[2 2]\n"
     ]
    }
   ],
   "source": [
    "a = np.array([[1,2], [3, 4], [5, 6]])\n",
    "\n",
    "# An example of integer array indexing.\n",
    "# The returned array will have shape (3,) and\n",
    "print(a[[0, 1, 2], [0, 1, 0]])  # Prints \"[1 4 5]\"\n",
    "\n",
    "# The above example of integer array indexing is equivalent to this:\n",
    "print(np.array([a[0, 0], a[1, 1], a[2, 0]]))  # Prints \"[1 4 5]\"\n",
    "\n",
    "# When using integer array indexing, you can reuse the same\n",
    "# element from the source array:\n",
    "print(a[[0, 0], [1, 1]])  # Prints \"[2 2]\"\n",
    "\n",
    "# Equivalent to the previous integer array indexing example\n",
    "print(np.array([a[0, 1], a[0, 1]]))  # Prints \"[2 2]\""
   ]
  },
  {
   "cell_type": "markdown",
   "metadata": {},
   "source": [
    "#### Array math\n",
    "\n",
    "Basic mathematical functions operate elementwise on arrays, and are available both as operator and as functions in the NumPy module."
   ]
  },
  {
   "cell_type": "code",
   "execution_count": 18,
   "metadata": {},
   "outputs": [
    {
     "name": "stdout",
     "output_type": "stream",
     "text": [
      "[[ 6.  8.]\n",
      " [10. 12.]]\n",
      "[[ 6.  8.]\n",
      " [10. 12.]]\n",
      "[[-4. -4.]\n",
      " [-4. -4.]]\n",
      "[[-4. -4.]\n",
      " [-4. -4.]]\n",
      "[[ 5. 12.]\n",
      " [21. 32.]]\n",
      "[[ 5. 12.]\n",
      " [21. 32.]]\n",
      "[[0.2        0.33333333]\n",
      " [0.42857143 0.5       ]]\n",
      "[[0.2        0.33333333]\n",
      " [0.42857143 0.5       ]]\n",
      "[[1.         1.41421356]\n",
      " [1.73205081 2.        ]]\n"
     ]
    }
   ],
   "source": [
    "x = np.array([[1,2],[3,4]], dtype=np.float64)\n",
    "y = np.array([[5,6],[7,8]], dtype=np.float64)\n",
    "\n",
    "# Elementwise sum; both produce the array\n",
    "# [[ 6.0  8.0]\n",
    "#  [10.0 12.0]]\n",
    "print(x + y)\n",
    "print(np.add(x, y))\n",
    "\n",
    "# Elementwise difference; both produce the array\n",
    "# [[-4.0 -4.0]\n",
    "#  [-4.0 -4.0]]\n",
    "print(x - y)\n",
    "print(np.subtract(x, y))\n",
    "\n",
    "# Elementwise product; both produce the array\n",
    "# [[ 5.0 12.0]\n",
    "#  [21.0 32.0]]\n",
    "print(x * y)\n",
    "print(np.multiply(x, y))\n",
    "\n",
    "# Elementwise division; both produce the array\n",
    "# [[ 0.2         0.33333333]\n",
    "#  [ 0.42857143  0.5       ]]\n",
    "print(x / y)\n",
    "print(np.divide(x, y))\n",
    "\n",
    "# Elementwise square root; produces the array\n",
    "# [[ 1.          1.41421356]\n",
    "#  [ 1.73205081  2.        ]]\n",
    "print(np.sqrt(x))"
   ]
  },
  {
   "cell_type": "markdown",
   "metadata": {},
   "source": [
    "Of course, NumPy is an extremely powerful library and it would be impossible to cover all of its functionalities and capabilities in this Notebook. We encourage you to visit the [NumPy webpage](https://docs.scipy.org/doc/numpy/index.html) for a more detailed explanation."
   ]
  },
  {
   "cell_type": "markdown",
   "metadata": {},
   "source": [
    "### pandas basics\n",
    "\n",
    "pandas is an open-source Python library providing high-performance data manipulation and analysis tool using its powerful data structures.\n",
    "\n",
    "Some interesting pandas functionalities include:\n",
    "\n",
    "- Fast and efficient dataframe object with default and customised indexing\n",
    "- Tools for loading data into in-memory data objects from different file formats\n",
    "- Data alignment and integrated handling of missing data\n",
    "- Reshaping and pivoting of data sets\n",
    "- Label-based slicing, indexing and subsetting of large data sets\n",
    "- Columns from a data structure can be deleted or inserted\n",
    "- Group by data for aggregation and transformations\n",
    "- High-performance merging and joining of data\n",
    "\n",
    "\n",
    "\n",
    "pandas deals with the following three data structures:\n",
    "\n",
    "- Series - 1D labled homogeneous array, size immutable.\n",
    "- Dataframe - General 2D labelled, size-mutable tabular structure with potentially heterogeneously typed columns.\n",
    "- Panel\n",
    "\n",
    "This course and primer focus mainly on series and dataframes."
   ]
  },
  {
   "cell_type": "markdown",
   "metadata": {},
   "source": [
    "#### Building pandas series and dataframes\n",
    "\n",
    "A pandas series can be created using the following constructor:\n",
    "\n",
    "``` python\n",
    "pandas.Series( data, index, dtype, copy)\n",
    "```\n",
    "\n",
    "\n",
    "For example, if data is an ndarray, then  the index passed must be of the same length. If no index is passed, then by default the index will be range(n) where n is the array length, i.e., [0,1,2,3…. range(len(array))-1]."
   ]
  },
  {
   "cell_type": "code",
   "execution_count": 4,
   "metadata": {},
   "outputs": [
    {
     "data": {
      "text/plain": [
       "0    a\n",
       "1    b\n",
       "2    c\n",
       "3    d\n",
       "dtype: object"
      ]
     },
     "execution_count": 4,
     "metadata": {},
     "output_type": "execute_result"
    }
   ],
   "source": [
    "import pandas as pd\n",
    "import numpy as np\n",
    "data = np.array(['a','b','c','d'])\n",
    "s = pd.Series(data)"
   ]
  },
  {
   "cell_type": "markdown",
   "metadata": {},
   "source": [
    "A pandas dataframe can be created using various inputs like the following:\n",
    "- Lists\n",
    "- Dict\n",
    "- Series\n",
    "- NumPy ndarrays\n",
    "using the following constructor:\n",
    "\n",
    "``` python\n",
    "pandas.DataFrame( data, index, dtype, copy)\n",
    "```\n",
    "\n",
    "For example:"
   ]
  },
  {
   "cell_type": "code",
   "execution_count": 5,
   "metadata": {},
   "outputs": [
    {
     "data": {
      "text/html": [
       "<div>\n",
       "<style scoped>\n",
       "    .dataframe tbody tr th:only-of-type {\n",
       "        vertical-align: middle;\n",
       "    }\n",
       "\n",
       "    .dataframe tbody tr th {\n",
       "        vertical-align: top;\n",
       "    }\n",
       "\n",
       "    .dataframe thead th {\n",
       "        text-align: right;\n",
       "    }\n",
       "</style>\n",
       "<table border=\"1\" class=\"dataframe\">\n",
       "  <thead>\n",
       "    <tr style=\"text-align: right;\">\n",
       "      <th></th>\n",
       "      <th>Name</th>\n",
       "      <th>Age</th>\n",
       "    </tr>\n",
       "  </thead>\n",
       "  <tbody>\n",
       "    <tr>\n",
       "      <td>0</td>\n",
       "      <td>Tom</td>\n",
       "      <td>28</td>\n",
       "    </tr>\n",
       "    <tr>\n",
       "      <td>1</td>\n",
       "      <td>Jack</td>\n",
       "      <td>34</td>\n",
       "    </tr>\n",
       "    <tr>\n",
       "      <td>2</td>\n",
       "      <td>Steve</td>\n",
       "      <td>29</td>\n",
       "    </tr>\n",
       "    <tr>\n",
       "      <td>3</td>\n",
       "      <td>Ricky</td>\n",
       "      <td>42</td>\n",
       "    </tr>\n",
       "  </tbody>\n",
       "</table>\n",
       "</div>"
      ],
      "text/plain": [
       "    Name  Age\n",
       "0    Tom   28\n",
       "1   Jack   34\n",
       "2  Steve   29\n",
       "3  Ricky   42"
      ]
     },
     "execution_count": 5,
     "metadata": {},
     "output_type": "execute_result"
    }
   ],
   "source": [
    "import pandas as pd\n",
    "data = {'Name':['Tom', 'Jack', 'Steve', 'Ricky'],'Age':[28,34,29,42]}\n",
    "df = pd.DataFrame(data)\n",
    "df"
   ]
  },
  {
   "cell_type": "markdown",
   "metadata": {},
   "source": [
    "Additionally, pandas allows you to import data sets saved with different formats (`.csv`, `.pickle`, etc.) into a dataframe using functions like `.read_csv()`, `.read_pickle()` and so on. You can find a comprehensive list of pandas functions to read data [here](https://pandas.pydata.org/pandas-docs/stable/reference/io.html)."
   ]
  },
  {
   "cell_type": "markdown",
   "metadata": {},
   "source": [
    "#### Exploratory data analysis (EDA)\n",
    "\n",
    "EDA plays a critical role in understanding the what, why, and how of the problem statement. It’s first in the order of operations that a data analyst will perform when handed a new data source and problem statement.\n",
    "\n",
    "EDA is an approach for analysing data sets by summarising their main characteristics with visualizations. The EDA process is a crucial step prior to building a model for unravelling insights important in developing robust algorithms.\n",
    "\n",
    "Let’s try to break down this definition and understand the different use cases for EDA:\n",
    "\n",
    "- First and foremost, EDA provides a stage for breaking down problem statements into smaller experiments which can help understand the data set\n",
    "- EDA provides relevant insights which help analysts make key business decisions\n",
    "- EDA provides a platform to run all thought experiments and ultimately guides us towards making a critical decision\n",
    "\n",
    "In this section, we will review some basic pandas commands to perform EDA.\n",
    "\n",
    "Imagine we have a data set `data.csv` that contains some data from different marketing campaignes. We use the function `read_csv()` to read the file into a dataframe df."
   ]
  },
  {
   "cell_type": "code",
   "execution_count": 14,
   "metadata": {},
   "outputs": [
    {
     "data": {
      "text/html": [
       "<div>\n",
       "<style scoped>\n",
       "    .dataframe tbody tr th:only-of-type {\n",
       "        vertical-align: middle;\n",
       "    }\n",
       "\n",
       "    .dataframe tbody tr th {\n",
       "        vertical-align: top;\n",
       "    }\n",
       "\n",
       "    .dataframe thead th {\n",
       "        text-align: right;\n",
       "    }\n",
       "</style>\n",
       "<table border=\"1\" class=\"dataframe\">\n",
       "  <thead>\n",
       "    <tr style=\"text-align: right;\">\n",
       "      <th></th>\n",
       "      <th>ad_id</th>\n",
       "      <th>reporting_start</th>\n",
       "      <th>reporting_end</th>\n",
       "      <th>campaign_id</th>\n",
       "      <th>fb_campaign_id</th>\n",
       "      <th>age</th>\n",
       "      <th>gender</th>\n",
       "      <th>interest1</th>\n",
       "      <th>interest2</th>\n",
       "      <th>interest3</th>\n",
       "      <th>impressions</th>\n",
       "      <th>clicks</th>\n",
       "      <th>spent</th>\n",
       "      <th>total_conversion</th>\n",
       "      <th>approved_conversion</th>\n",
       "    </tr>\n",
       "  </thead>\n",
       "  <tbody>\n",
       "    <tr>\n",
       "      <td>0</td>\n",
       "      <td>708746</td>\n",
       "      <td>17/08/2017</td>\n",
       "      <td>17/08/2017</td>\n",
       "      <td>916</td>\n",
       "      <td>103916</td>\n",
       "      <td>30-34</td>\n",
       "      <td>M</td>\n",
       "      <td>15</td>\n",
       "      <td>17</td>\n",
       "      <td>17</td>\n",
       "      <td>7350.000000</td>\n",
       "      <td>1</td>\n",
       "      <td>1.43</td>\n",
       "      <td>2.0</td>\n",
       "      <td>1.0</td>\n",
       "    </tr>\n",
       "    <tr>\n",
       "      <td>1</td>\n",
       "      <td>708749</td>\n",
       "      <td>17/08/2017</td>\n",
       "      <td>17/08/2017</td>\n",
       "      <td>916</td>\n",
       "      <td>103917</td>\n",
       "      <td>30-34</td>\n",
       "      <td>M</td>\n",
       "      <td>16</td>\n",
       "      <td>19</td>\n",
       "      <td>21</td>\n",
       "      <td>17861.000000</td>\n",
       "      <td>2</td>\n",
       "      <td>1.82</td>\n",
       "      <td>2.0</td>\n",
       "      <td>0.0</td>\n",
       "    </tr>\n",
       "    <tr>\n",
       "      <td>2</td>\n",
       "      <td>708771</td>\n",
       "      <td>17/08/2017</td>\n",
       "      <td>17/08/2017</td>\n",
       "      <td>916</td>\n",
       "      <td>103920</td>\n",
       "      <td>30-34</td>\n",
       "      <td>M</td>\n",
       "      <td>20</td>\n",
       "      <td>25</td>\n",
       "      <td>22</td>\n",
       "      <td>693.000000</td>\n",
       "      <td>0</td>\n",
       "      <td>0.00</td>\n",
       "      <td>1.0</td>\n",
       "      <td>0.0</td>\n",
       "    </tr>\n",
       "    <tr>\n",
       "      <td>3</td>\n",
       "      <td>708815</td>\n",
       "      <td>30/08/2017</td>\n",
       "      <td>30/08/2017</td>\n",
       "      <td>916</td>\n",
       "      <td>103928</td>\n",
       "      <td>30-34</td>\n",
       "      <td>M</td>\n",
       "      <td>28</td>\n",
       "      <td>32</td>\n",
       "      <td>32</td>\n",
       "      <td>4259.000000</td>\n",
       "      <td>1</td>\n",
       "      <td>1.25</td>\n",
       "      <td>1.0</td>\n",
       "      <td>0.0</td>\n",
       "    </tr>\n",
       "    <tr>\n",
       "      <td>4</td>\n",
       "      <td>708818</td>\n",
       "      <td>17/08/2017</td>\n",
       "      <td>17/08/2017</td>\n",
       "      <td>916</td>\n",
       "      <td>103928</td>\n",
       "      <td>30-34</td>\n",
       "      <td>M</td>\n",
       "      <td>28</td>\n",
       "      <td>33</td>\n",
       "      <td>32</td>\n",
       "      <td>4133.000000</td>\n",
       "      <td>1</td>\n",
       "      <td>1.29</td>\n",
       "      <td>1.0</td>\n",
       "      <td>1.0</td>\n",
       "    </tr>\n",
       "    <tr>\n",
       "      <td>...</td>\n",
       "      <td>...</td>\n",
       "      <td>...</td>\n",
       "      <td>...</td>\n",
       "      <td>...</td>\n",
       "      <td>...</td>\n",
       "      <td>...</td>\n",
       "      <td>...</td>\n",
       "      <td>...</td>\n",
       "      <td>...</td>\n",
       "      <td>...</td>\n",
       "      <td>...</td>\n",
       "      <td>...</td>\n",
       "      <td>...</td>\n",
       "      <td>...</td>\n",
       "      <td>...</td>\n",
       "    </tr>\n",
       "    <tr>\n",
       "      <td>1138</td>\n",
       "      <td>1314410</td>\n",
       "      <td>19/08/2017</td>\n",
       "      <td>19/08/2017</td>\n",
       "      <td>45-49</td>\n",
       "      <td>F</td>\n",
       "      <td>109</td>\n",
       "      <td>111</td>\n",
       "      <td>114</td>\n",
       "      <td>1129773</td>\n",
       "      <td>252</td>\n",
       "      <td>358.189997</td>\n",
       "      <td>13</td>\n",
       "      <td>2.00</td>\n",
       "      <td>NaN</td>\n",
       "      <td>NaN</td>\n",
       "    </tr>\n",
       "    <tr>\n",
       "      <td>1139</td>\n",
       "      <td>1314411</td>\n",
       "      <td>19/08/2017</td>\n",
       "      <td>19/08/2017</td>\n",
       "      <td>45-49</td>\n",
       "      <td>F</td>\n",
       "      <td>110</td>\n",
       "      <td>111</td>\n",
       "      <td>116</td>\n",
       "      <td>637549</td>\n",
       "      <td>120</td>\n",
       "      <td>173.880003</td>\n",
       "      <td>3</td>\n",
       "      <td>0.00</td>\n",
       "      <td>NaN</td>\n",
       "      <td>NaN</td>\n",
       "    </tr>\n",
       "    <tr>\n",
       "      <td>1140</td>\n",
       "      <td>1314412</td>\n",
       "      <td>19/08/2017</td>\n",
       "      <td>19/08/2017</td>\n",
       "      <td>45-49</td>\n",
       "      <td>F</td>\n",
       "      <td>111</td>\n",
       "      <td>113</td>\n",
       "      <td>117</td>\n",
       "      <td>151531</td>\n",
       "      <td>28</td>\n",
       "      <td>40.289999</td>\n",
       "      <td>2</td>\n",
       "      <td>0.00</td>\n",
       "      <td>NaN</td>\n",
       "      <td>NaN</td>\n",
       "    </tr>\n",
       "    <tr>\n",
       "      <td>1141</td>\n",
       "      <td>1314414</td>\n",
       "      <td>17/08/2017</td>\n",
       "      <td>17/08/2017</td>\n",
       "      <td>45-49</td>\n",
       "      <td>F</td>\n",
       "      <td>113</td>\n",
       "      <td>114</td>\n",
       "      <td>117</td>\n",
       "      <td>790253</td>\n",
       "      <td>135</td>\n",
       "      <td>198.710000</td>\n",
       "      <td>8</td>\n",
       "      <td>2.00</td>\n",
       "      <td>NaN</td>\n",
       "      <td>NaN</td>\n",
       "    </tr>\n",
       "    <tr>\n",
       "      <td>1142</td>\n",
       "      <td>1314415</td>\n",
       "      <td>17/08/2017</td>\n",
       "      <td>17/08/2017</td>\n",
       "      <td>45-49</td>\n",
       "      <td>F</td>\n",
       "      <td>114</td>\n",
       "      <td>116</td>\n",
       "      <td>118</td>\n",
       "      <td>513161</td>\n",
       "      <td>114</td>\n",
       "      <td>165.609999</td>\n",
       "      <td>5</td>\n",
       "      <td>2.00</td>\n",
       "      <td>NaN</td>\n",
       "      <td>NaN</td>\n",
       "    </tr>\n",
       "  </tbody>\n",
       "</table>\n",
       "<p>1143 rows × 15 columns</p>\n",
       "</div>"
      ],
      "text/plain": [
       "        ad_id reporting_start reporting_end campaign_id fb_campaign_id    age  \\\n",
       "0      708746      17/08/2017    17/08/2017         916         103916  30-34   \n",
       "1      708749      17/08/2017    17/08/2017         916         103917  30-34   \n",
       "2      708771      17/08/2017    17/08/2017         916         103920  30-34   \n",
       "3      708815      30/08/2017    30/08/2017         916         103928  30-34   \n",
       "4      708818      17/08/2017    17/08/2017         916         103928  30-34   \n",
       "...       ...             ...           ...         ...            ...    ...   \n",
       "1138  1314410      19/08/2017    19/08/2017       45-49              F    109   \n",
       "1139  1314411      19/08/2017    19/08/2017       45-49              F    110   \n",
       "1140  1314412      19/08/2017    19/08/2017       45-49              F    111   \n",
       "1141  1314414      17/08/2017    17/08/2017       45-49              F    113   \n",
       "1142  1314415      17/08/2017    17/08/2017       45-49              F    114   \n",
       "\n",
       "     gender  interest1  interest2  interest3   impressions  clicks  spent  \\\n",
       "0         M         15         17         17   7350.000000       1   1.43   \n",
       "1         M         16         19         21  17861.000000       2   1.82   \n",
       "2         M         20         25         22    693.000000       0   0.00   \n",
       "3         M         28         32         32   4259.000000       1   1.25   \n",
       "4         M         28         33         32   4133.000000       1   1.29   \n",
       "...     ...        ...        ...        ...           ...     ...    ...   \n",
       "1138    111        114    1129773        252    358.189997      13   2.00   \n",
       "1139    111        116     637549        120    173.880003       3   0.00   \n",
       "1140    113        117     151531         28     40.289999       2   0.00   \n",
       "1141    114        117     790253        135    198.710000       8   2.00   \n",
       "1142    116        118     513161        114    165.609999       5   2.00   \n",
       "\n",
       "      total_conversion  approved_conversion  \n",
       "0                  2.0                  1.0  \n",
       "1                  2.0                  0.0  \n",
       "2                  1.0                  0.0  \n",
       "3                  1.0                  0.0  \n",
       "4                  1.0                  1.0  \n",
       "...                ...                  ...  \n",
       "1138               NaN                  NaN  \n",
       "1139               NaN                  NaN  \n",
       "1140               NaN                  NaN  \n",
       "1141               NaN                  NaN  \n",
       "1142               NaN                  NaN  \n",
       "\n",
       "[1143 rows x 15 columns]"
      ]
     },
     "execution_count": 14,
     "metadata": {},
     "output_type": "execute_result"
    }
   ],
   "source": [
    "import pandas as pd\n",
    "df = pd.read_csv(\"data.csv\")\n",
    "df"
   ]
  },
  {
   "cell_type": "markdown",
   "metadata": {},
   "source": [
    "The **describe()** function returns a pandas series type that provides descriptive statistics which summarises the central tendency, dispersion and shape of a data set’s distribution, excluding NaN values. The three main numerical measures for the center of a distribution are the mode, mean($\\mu$), and the median ($M$). The mode is the most frequently occurring value. The mean is the average value while the median is the middle value."
   ]
  },
  {
   "cell_type": "code",
   "execution_count": 9,
   "metadata": {},
   "outputs": [
    {
     "data": {
      "text/html": [
       "<div>\n",
       "<style scoped>\n",
       "    .dataframe tbody tr th:only-of-type {\n",
       "        vertical-align: middle;\n",
       "    }\n",
       "\n",
       "    .dataframe tbody tr th {\n",
       "        vertical-align: top;\n",
       "    }\n",
       "\n",
       "    .dataframe thead th {\n",
       "        text-align: right;\n",
       "    }\n",
       "</style>\n",
       "<table border=\"1\" class=\"dataframe\">\n",
       "  <thead>\n",
       "    <tr style=\"text-align: right;\">\n",
       "      <th></th>\n",
       "      <th>ad_id</th>\n",
       "      <th>interest1</th>\n",
       "      <th>interest2</th>\n",
       "      <th>interest3</th>\n",
       "      <th>impressions</th>\n",
       "      <th>clicks</th>\n",
       "      <th>spent</th>\n",
       "      <th>total_conversion</th>\n",
       "      <th>approved_conversion</th>\n",
       "    </tr>\n",
       "  </thead>\n",
       "  <tbody>\n",
       "    <tr>\n",
       "      <td>count</td>\n",
       "      <td>1.143000e+03</td>\n",
       "      <td>1143.000000</td>\n",
       "      <td>1.143000e+03</td>\n",
       "      <td>1143.000000</td>\n",
       "      <td>1.143000e+03</td>\n",
       "      <td>1143.000000</td>\n",
       "      <td>1143.000000</td>\n",
       "      <td>761.000000</td>\n",
       "      <td>761.000000</td>\n",
       "    </tr>\n",
       "    <tr>\n",
       "      <td>mean</td>\n",
       "      <td>9.872611e+05</td>\n",
       "      <td>33.884514</td>\n",
       "      <td>1.180606e+05</td>\n",
       "      <td>42.474191</td>\n",
       "      <td>6.872500e+04</td>\n",
       "      <td>11.629921</td>\n",
       "      <td>17.597760</td>\n",
       "      <td>2.161629</td>\n",
       "      <td>0.768725</td>\n",
       "    </tr>\n",
       "    <tr>\n",
       "      <td>std</td>\n",
       "      <td>1.939928e+05</td>\n",
       "      <td>27.560263</td>\n",
       "      <td>2.670506e+05</td>\n",
       "      <td>48.987248</td>\n",
       "      <td>2.067023e+05</td>\n",
       "      <td>27.347899</td>\n",
       "      <td>48.418711</td>\n",
       "      <td>4.062201</td>\n",
       "      <td>1.656445</td>\n",
       "    </tr>\n",
       "    <tr>\n",
       "      <td>min</td>\n",
       "      <td>7.087460e+05</td>\n",
       "      <td>2.000000</td>\n",
       "      <td>3.000000e+00</td>\n",
       "      <td>0.000000</td>\n",
       "      <td>0.000000e+00</td>\n",
       "      <td>0.000000</td>\n",
       "      <td>0.000000</td>\n",
       "      <td>0.000000</td>\n",
       "      <td>0.000000</td>\n",
       "    </tr>\n",
       "    <tr>\n",
       "      <td>25%</td>\n",
       "      <td>7.776325e+05</td>\n",
       "      <td>16.000000</td>\n",
       "      <td>2.200000e+01</td>\n",
       "      <td>19.000000</td>\n",
       "      <td>1.442650e+02</td>\n",
       "      <td>1.000000</td>\n",
       "      <td>0.000000</td>\n",
       "      <td>1.000000</td>\n",
       "      <td>0.000000</td>\n",
       "    </tr>\n",
       "    <tr>\n",
       "      <td>50%</td>\n",
       "      <td>1.121185e+06</td>\n",
       "      <td>26.000000</td>\n",
       "      <td>3.300000e+01</td>\n",
       "      <td>27.000000</td>\n",
       "      <td>3.142000e+03</td>\n",
       "      <td>2.000000</td>\n",
       "      <td>1.530000</td>\n",
       "      <td>1.000000</td>\n",
       "      <td>0.000000</td>\n",
       "    </tr>\n",
       "    <tr>\n",
       "      <td>75%</td>\n",
       "      <td>1.121804e+06</td>\n",
       "      <td>32.000000</td>\n",
       "      <td>9.889400e+04</td>\n",
       "      <td>38.000000</td>\n",
       "      <td>2.786400e+04</td>\n",
       "      <td>8.000000</td>\n",
       "      <td>8.540000</td>\n",
       "      <td>2.000000</td>\n",
       "      <td>1.000000</td>\n",
       "    </tr>\n",
       "    <tr>\n",
       "      <td>max</td>\n",
       "      <td>1.314415e+06</td>\n",
       "      <td>120.000000</td>\n",
       "      <td>2.286228e+06</td>\n",
       "      <td>421.000000</td>\n",
       "      <td>3.052003e+06</td>\n",
       "      <td>340.000000</td>\n",
       "      <td>639.949998</td>\n",
       "      <td>60.000000</td>\n",
       "      <td>21.000000</td>\n",
       "    </tr>\n",
       "  </tbody>\n",
       "</table>\n",
       "</div>"
      ],
      "text/plain": [
       "              ad_id    interest1     interest2    interest3   impressions  \\\n",
       "count  1.143000e+03  1143.000000  1.143000e+03  1143.000000  1.143000e+03   \n",
       "mean   9.872611e+05    33.884514  1.180606e+05    42.474191  6.872500e+04   \n",
       "std    1.939928e+05    27.560263  2.670506e+05    48.987248  2.067023e+05   \n",
       "min    7.087460e+05     2.000000  3.000000e+00     0.000000  0.000000e+00   \n",
       "25%    7.776325e+05    16.000000  2.200000e+01    19.000000  1.442650e+02   \n",
       "50%    1.121185e+06    26.000000  3.300000e+01    27.000000  3.142000e+03   \n",
       "75%    1.121804e+06    32.000000  9.889400e+04    38.000000  2.786400e+04   \n",
       "max    1.314415e+06   120.000000  2.286228e+06   421.000000  3.052003e+06   \n",
       "\n",
       "            clicks        spent  total_conversion  approved_conversion  \n",
       "count  1143.000000  1143.000000        761.000000           761.000000  \n",
       "mean     11.629921    17.597760          2.161629             0.768725  \n",
       "std      27.347899    48.418711          4.062201             1.656445  \n",
       "min       0.000000     0.000000          0.000000             0.000000  \n",
       "25%       1.000000     0.000000          1.000000             0.000000  \n",
       "50%       2.000000     1.530000          1.000000             0.000000  \n",
       "75%       8.000000     8.540000          2.000000             1.000000  \n",
       "max     340.000000   639.949998         60.000000            21.000000  "
      ]
     },
     "execution_count": 9,
     "metadata": {},
     "output_type": "execute_result"
    }
   ],
   "source": [
    "df.describe()"
   ]
  },
  {
   "cell_type": "markdown",
   "metadata": {},
   "source": [
    "The function **shape** can be used to retrieve the number of entries in the data set."
   ]
  },
  {
   "cell_type": "code",
   "execution_count": 11,
   "metadata": {},
   "outputs": [
    {
     "data": {
      "text/plain": [
       "(1143, 15)"
      ]
     },
     "execution_count": 11,
     "metadata": {},
     "output_type": "execute_result"
    }
   ],
   "source": [
    "df.shape"
   ]
  },
  {
   "cell_type": "markdown",
   "metadata": {},
   "source": [
    "The **info()** method prints information about a dataframe including the index dtype, column dtypes, non-null values and memory usage."
   ]
  },
  {
   "cell_type": "code",
   "execution_count": 15,
   "metadata": {},
   "outputs": [
    {
     "name": "stdout",
     "output_type": "stream",
     "text": [
      "<class 'pandas.core.frame.DataFrame'>\n",
      "RangeIndex: 1143 entries, 0 to 1142\n",
      "Data columns (total 15 columns):\n",
      "ad_id                  1143 non-null int64\n",
      "reporting_start        1143 non-null object\n",
      "reporting_end          1143 non-null object\n",
      "campaign_id            1143 non-null object\n",
      "fb_campaign_id         1143 non-null object\n",
      "age                    1143 non-null object\n",
      "gender                 1143 non-null object\n",
      "interest1              1143 non-null int64\n",
      "interest2              1143 non-null int64\n",
      "interest3              1143 non-null int64\n",
      "impressions            1143 non-null float64\n",
      "clicks                 1143 non-null int64\n",
      "spent                  1143 non-null float64\n",
      "total_conversion       761 non-null float64\n",
      "approved_conversion    761 non-null float64\n",
      "dtypes: float64(4), int64(5), object(6)\n",
      "memory usage: 134.1+ KB\n"
     ]
    }
   ],
   "source": [
    "df.info()"
   ]
  },
  {
   "cell_type": "markdown",
   "metadata": {},
   "source": [
    "Of course, pandas is a very powerful library with many other functions. Exploring all of them is beyond our scope. For this reason, we will leave it up to you to go explore its many other functionalities as you learn more about data science and machine learning."
   ]
  },
  {
   "cell_type": "markdown",
   "metadata": {},
   "source": [
    "### A note about other Python libraries \n",
    "\n",
    "Python is very powerful and popular programming language that is used when doing analysis in many fields. For this reason, many third party libraries have been developed in order to accomodate the needs of different researches, scientists and analylists.\n",
    "\n",
    "When it comes to data science, another popular library is `scikit-learn`. Again, this is a very powerful package that comes with endless functionalities. For this reason, we encourage you to visit the links above for the documentation of each library.\n",
    "\n",
    "Additionally, each solution to the group exercises in the assignments you will see in this course is designed as a learning experience and will guide you through the steps of each algorithm implemented. We hope you will enjoy this learning experience and become passionate about machine learning and its algorithms!"
   ]
  },
  {
   "cell_type": "code",
   "execution_count": null,
   "metadata": {},
   "outputs": [],
   "source": []
  }
 ],
 "metadata": {
  "kernelspec": {
   "display_name": "Python 3",
   "language": "python",
   "name": "python3"
  },
  "language_info": {
   "codemirror_mode": {
    "name": "ipython",
    "version": 3
   },
   "file_extension": ".py",
   "mimetype": "text/x-python",
   "name": "python",
   "nbconvert_exporter": "python",
   "pygments_lexer": "ipython3",
   "version": "3.7.7"
  }
 },
 "nbformat": 4,
 "nbformat_minor": 2
}
